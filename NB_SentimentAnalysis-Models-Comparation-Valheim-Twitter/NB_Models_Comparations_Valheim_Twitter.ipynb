{
 "cells": [
  {
   "cell_type": "markdown",
   "id": "575c11d4",
   "metadata": {},
   "source": [
    "# Creating Naive Bayes Models for Sentiment Analysis using Valheim Twitter Dataset\n",
    "\n",
    "From the previous project (Sentiment Analysis of Valheim (Video Game) based on Twitter Dataset using Keras BiLSTM), I will reuse the same dataset and create 3 sentiment analysis models using Naive Bayes algorithm. The models are Multinomial Naive Bayes, Complement Naive Bayes, and Bernoulli Naive Bayes. The models will be evaluated twice, first when they're fitted only once with 70:30 split, and second when they're fitted 10 times using k-fold cross validation."
   ]
  },
  {
   "cell_type": "markdown",
   "id": "8a693a0c",
   "metadata": {},
   "source": [
    "## Preprocessing"
   ]
  },
  {
   "cell_type": "code",
   "execution_count": 6,
   "id": "4a8f9522",
   "metadata": {},
   "outputs": [],
   "source": [
    "import pandas as pd\n",
    "import numpy as np\n",
    "import contractions\n",
    "import matplotlib.pyplot as plt\n",
    "from collections import Counter\n",
    "import preprocessor as p\n",
    "import nltk\n",
    "from nltk.tokenize import RegexpTokenizer\n",
    "from nltk.corpus import stopwords\n",
    "from nltk.tokenize import word_tokenize\n",
    "from nltk.stem import WordNetLemmatizer\n",
    "from nltk.sentiment.vader import SentimentIntensityAnalyzer\n",
    "import string\n",
    "from sklearn.feature_extraction.text import CountVectorizer\n",
    "from sklearn.model_selection import train_test_split\n",
    "from sklearn.naive_bayes import MultinomialNB, ComplementNB, BernoulliNB\n",
    "from sklearn import metrics\n",
    "from sklearn.model_selection import cross_validate\n",
    "import joblib"
   ]
  },
  {
   "cell_type": "code",
   "execution_count": 2,
   "id": "a459abde",
   "metadata": {
    "scrolled": true
   },
   "outputs": [
    {
     "data": {
      "text/html": [
       "<div>\n",
       "<style scoped>\n",
       "    .dataframe tbody tr th:only-of-type {\n",
       "        vertical-align: middle;\n",
       "    }\n",
       "\n",
       "    .dataframe tbody tr th {\n",
       "        vertical-align: top;\n",
       "    }\n",
       "\n",
       "    .dataframe thead th {\n",
       "        text-align: right;\n",
       "    }\n",
       "</style>\n",
       "<table border=\"1\" class=\"dataframe\">\n",
       "  <thead>\n",
       "    <tr style=\"text-align: right;\">\n",
       "      <th></th>\n",
       "      <th>User</th>\n",
       "      <th>Date Created</th>\n",
       "      <th>Number of Likes</th>\n",
       "      <th>Source of Tweet</th>\n",
       "      <th>Tweet</th>\n",
       "    </tr>\n",
       "  </thead>\n",
       "  <tbody>\n",
       "    <tr>\n",
       "      <th>0</th>\n",
       "      <td>ElPibeCombo</td>\n",
       "      <td>2022-12-15</td>\n",
       "      <td>0</td>\n",
       "      <td>Twitter Web App</td>\n",
       "      <td>@BS_artsss Oh, this is so good, i love it! can...</td>\n",
       "    </tr>\n",
       "    <tr>\n",
       "      <th>1</th>\n",
       "      <td>MrsTadertaut</td>\n",
       "      <td>2022-12-15</td>\n",
       "      <td>5</td>\n",
       "      <td>Twitter Web App</td>\n",
       "      <td>Hello lovelies!\\n\\nTonight we are jumping back...</td>\n",
       "    </tr>\n",
       "    <tr>\n",
       "      <th>2</th>\n",
       "      <td>Meganoip</td>\n",
       "      <td>2022-12-15</td>\n",
       "      <td>0</td>\n",
       "      <td>Twitter Web App</td>\n",
       "      <td>Storyline: Noi found Block fighting with giant...</td>\n",
       "    </tr>\n",
       "    <tr>\n",
       "      <th>3</th>\n",
       "      <td>TaesTeahouse</td>\n",
       "      <td>2022-12-15</td>\n",
       "      <td>2</td>\n",
       "      <td>Twitter Web App</td>\n",
       "      <td>Ayo I'm totally not biased or anything but yal...</td>\n",
       "    </tr>\n",
       "    <tr>\n",
       "      <th>4</th>\n",
       "      <td>John90192410</td>\n",
       "      <td>2022-12-15</td>\n",
       "      <td>1</td>\n",
       "      <td>Twitter for Android</td>\n",
       "      <td>The Queen Wants it all... \\nDid Mistlands solo...</td>\n",
       "    </tr>\n",
       "  </tbody>\n",
       "</table>\n",
       "</div>"
      ],
      "text/plain": [
       "           User Date Created  Number of Likes      Source of Tweet  \\\n",
       "0   ElPibeCombo   2022-12-15                0      Twitter Web App   \n",
       "1  MrsTadertaut   2022-12-15                5      Twitter Web App   \n",
       "2      Meganoip   2022-12-15                0      Twitter Web App   \n",
       "3  TaesTeahouse   2022-12-15                2      Twitter Web App   \n",
       "4  John90192410   2022-12-15                1  Twitter for Android   \n",
       "\n",
       "                                               Tweet  \n",
       "0  @BS_artsss Oh, this is so good, i love it! can...  \n",
       "1  Hello lovelies!\\n\\nTonight we are jumping back...  \n",
       "2  Storyline: Noi found Block fighting with giant...  \n",
       "3  Ayo I'm totally not biased or anything but yal...  \n",
       "4  The Queen Wants it all... \\nDid Mistlands solo...  "
      ]
     },
     "execution_count": 2,
     "metadata": {},
     "output_type": "execute_result"
    }
   ],
   "source": [
    "df = pd.read_csv('scrapped_tweet.csv')\n",
    "df = df.iloc[:,1:]\n",
    "df.head()"
   ]
  },
  {
   "cell_type": "code",
   "execution_count": 3,
   "id": "d0aa5a82",
   "metadata": {},
   "outputs": [],
   "source": [
    "tweet = (df[\"Tweet\"].values.tolist())\n",
    "wordnet_lemmatizer = WordNetLemmatizer()\n",
    "stop_words = nltk.corpus.stopwords.words('english')\n",
    "contractions.add('cant', 'can not')"
   ]
  },
  {
   "cell_type": "code",
   "execution_count": 4,
   "id": "432baaa5",
   "metadata": {
    "scrolled": true
   },
   "outputs": [
    {
     "data": {
      "text/html": [
       "<div>\n",
       "<style scoped>\n",
       "    .dataframe tbody tr th:only-of-type {\n",
       "        vertical-align: middle;\n",
       "    }\n",
       "\n",
       "    .dataframe tbody tr th {\n",
       "        vertical-align: top;\n",
       "    }\n",
       "\n",
       "    .dataframe thead th {\n",
       "        text-align: right;\n",
       "    }\n",
       "</style>\n",
       "<table border=\"1\" class=\"dataframe\">\n",
       "  <thead>\n",
       "    <tr style=\"text-align: right;\">\n",
       "      <th></th>\n",
       "      <th>Tweet</th>\n",
       "    </tr>\n",
       "  </thead>\n",
       "  <tbody>\n",
       "    <tr>\n",
       "      <th>0</th>\n",
       "      <td>oh good love wait get home play valheim</td>\n",
       "    </tr>\n",
       "    <tr>\n",
       "      <th>1</th>\n",
       "      <td>hello loveliestonight jumping back made copper...</td>\n",
       "    </tr>\n",
       "    <tr>\n",
       "      <th>2</th>\n",
       "      <td>storyline noi found block fighting giant valhe...</td>\n",
       "    </tr>\n",
       "    <tr>\n",
       "      <th>3</th>\n",
       "      <td>ayo totally biased anything go watch lil si pl...</td>\n",
       "    </tr>\n",
       "    <tr>\n",
       "      <th>4</th>\n",
       "      <td>queen want mistlands solo cheating died time b...</td>\n",
       "    </tr>\n",
       "  </tbody>\n",
       "</table>\n",
       "</div>"
      ],
      "text/plain": [
       "                                               Tweet\n",
       "0            oh good love wait get home play valheim\n",
       "1  hello loveliestonight jumping back made copper...\n",
       "2  storyline noi found block fighting giant valhe...\n",
       "3  ayo totally biased anything go watch lil si pl...\n",
       "4  queen want mistlands solo cheating died time b..."
      ]
     },
     "execution_count": 4,
     "metadata": {},
     "output_type": "execute_result"
    }
   ],
   "source": [
    "def cleanTweet(arr):\n",
    "    #Create a new list to store the cleaned tweets\n",
    "    clean_tweet = []\n",
    "    for i in range(0,len(arr)):\n",
    "        #Undercase all letters\n",
    "        temp = p.clean(arr[i]).casefold()\n",
    "        #Remove all punctuations\n",
    "        temp = temp.translate(str.maketrans('', '', string.punctuation))\n",
    "        #Create new list to store filtered tokenized words\n",
    "        filtered = []\n",
    "        #Create new variable for tokenized sentence\n",
    "        words_temp = word_tokenize(temp)\n",
    "        #Create new variable to store string that has its contractions removed\n",
    "        str_temp_fixed = \"\"\n",
    "        #Clean the words from contractions\n",
    "        for j in words_temp:\n",
    "            j = contractions.fix(j)\n",
    "            str_temp_fixed += \" \" + j\n",
    "        #Create new variable for the cleaned tokenized sentence\n",
    "        words_temp_fixed = word_tokenize(str_temp_fixed)\n",
    "        for c in words_temp_fixed:\n",
    "            #Check if a word is a stop word\n",
    "            if c not in stop_words:\n",
    "                #Lemmatize the word, then stores it into the \"filtered\" list\n",
    "                c = wordnet_lemmatizer.lemmatize(c)\n",
    "                filtered.append(c)\n",
    "        #Create a new variable to store the filtered words that are re-combined back into a sentence\n",
    "        cleaned = \" \".join(filtered)\n",
    "        #Insert the \"cleaned\" variable to \"clean_tweet\" list\n",
    "        clean_tweet.append(cleaned)\n",
    "        \n",
    "    return clean_tweet\n",
    "    \n",
    "cleaned = pd.DataFrame(cleanTweet(tweet), columns=[\"Tweet\"])\n",
    "cleaned.head()"
   ]
  },
  {
   "cell_type": "code",
   "execution_count": 7,
   "id": "14c1e3e9",
   "metadata": {},
   "outputs": [
    {
     "data": {
      "image/png": "[encoded data removed]",
      "text/plain": [
       "<Figure size 432x288 with 1 Axes>"
      ]
     },
     "metadata": {
      "needs_background": "light"
     },
     "output_type": "display_data"
    }
   ],
   "source": [
    "def word_count(str):\n",
    "    counts = dict()\n",
    "    words = str.split()\n",
    "\n",
    "    for word in words:\n",
    "        if word in counts:\n",
    "            counts[word] += 1\n",
    "        else:\n",
    "            counts[word] = 1\n",
    "\n",
    "    return counts\n",
    "\n",
    "#Take 20 top words\n",
    "a =  ' '.join(map(str, cleaned[\"Tweet\"]))\n",
    "counted = {k: v for k, v in sorted(word_count(a).items(), key=lambda item: item[1], reverse=True)}\n",
    "counted = dict(Counter(counted).most_common(15))\n",
    "\n",
    "plt.barh(range(len(counted)), list(counted.values()), align='center')\n",
    "plt.yticks(range(len(counted)), list(counted.keys()))\n",
    "plt.gca().invert_yaxis()\n",
    "plt.show()"
   ]
  },
  {
   "cell_type": "code",
   "execution_count": 8,
   "id": "83f6d4c6",
   "metadata": {
    "scrolled": true
   },
   "outputs": [
    {
     "data": {
      "text/html": [
       "<div>\n",
       "<style scoped>\n",
       "    .dataframe tbody tr th:only-of-type {\n",
       "        vertical-align: middle;\n",
       "    }\n",
       "\n",
       "    .dataframe tbody tr th {\n",
       "        vertical-align: top;\n",
       "    }\n",
       "\n",
       "    .dataframe thead th {\n",
       "        text-align: right;\n",
       "    }\n",
       "</style>\n",
       "<table border=\"1\" class=\"dataframe\">\n",
       "  <thead>\n",
       "    <tr style=\"text-align: right;\">\n",
       "      <th></th>\n",
       "      <th>Tweet</th>\n",
       "    </tr>\n",
       "  </thead>\n",
       "  <tbody>\n",
       "    <tr>\n",
       "      <th>0</th>\n",
       "      <td>oh good love wait home</td>\n",
       "    </tr>\n",
       "    <tr>\n",
       "      <th>1</th>\n",
       "      <td>hello loveliestonight jumping back made copper...</td>\n",
       "    </tr>\n",
       "    <tr>\n",
       "      <th>2</th>\n",
       "      <td>storyline noi found block fighting giant drago...</td>\n",
       "    </tr>\n",
       "    <tr>\n",
       "      <th>3</th>\n",
       "      <td>ayo totally biased anything go watch lil si</td>\n",
       "    </tr>\n",
       "    <tr>\n",
       "      <th>4</th>\n",
       "      <td>queen want solo cheating died biome felt impos...</td>\n",
       "    </tr>\n",
       "  </tbody>\n",
       "</table>\n",
       "</div>"
      ],
      "text/plain": [
       "                                               Tweet\n",
       "0                             oh good love wait home\n",
       "1  hello loveliestonight jumping back made copper...\n",
       "2  storyline noi found block fighting giant drago...\n",
       "3        ayo totally biased anything go watch lil si\n",
       "4  queen want solo cheating died biome felt impos..."
      ]
     },
     "execution_count": 8,
     "metadata": {},
     "output_type": "execute_result"
    }
   ],
   "source": [
    "manual_stop = ['valheim', 'mistlands', 'new', 'game', 'live', \n",
    "               'update', 'playing', 'time', 'play', 'get', 'stream', \n",
    "               'u', 'going', 'server', 'am', 'pm', 'est', 'tonight', 'today', 'tomorrow', 'yesterday']\n",
    "\n",
    "#Create a new list to store the cleaned tweets\n",
    "def manual_tweetClean(arr):\n",
    "    manual_clean_tweet = []\n",
    "    for i in range(0,len(tweet)):\n",
    "        temp = arr.iloc[i]\n",
    "        #Create new list to store filtered tokenized words\n",
    "        filtered = []\n",
    "        #Create new variable for tokenized sentence\n",
    "        words_temp = word_tokenize(temp)\n",
    "        for c in words_temp:\n",
    "            #Check if a word is a stop word\n",
    "            if c not in manual_stop:\n",
    "                #Stores it into the \"filtered\" list\n",
    "                filtered.append(c)\n",
    "        #Create a new variable to store the filtered words that are re-combined back into a sentence\n",
    "        cleaned = \" \".join(filtered)\n",
    "        #Insert the \"cleaned\" variable to \"manual_clean_tweet\" list\n",
    "        manual_clean_tweet.append(cleaned)\n",
    "    return manual_clean_tweet\n",
    "\n",
    "#Create a new dataframe filled with the cleaned tweets\n",
    "cleaned[\"Tweet\"] = manual_tweetClean(cleaned[\"Tweet\"])\n",
    "cleaned.head()"
   ]
  },
  {
   "cell_type": "code",
   "execution_count": 9,
   "id": "54baec52",
   "metadata": {},
   "outputs": [
    {
     "data": {
      "text/html": [
       "<div>\n",
       "<style scoped>\n",
       "    .dataframe tbody tr th:only-of-type {\n",
       "        vertical-align: middle;\n",
       "    }\n",
       "\n",
       "    .dataframe tbody tr th {\n",
       "        vertical-align: top;\n",
       "    }\n",
       "\n",
       "    .dataframe thead th {\n",
       "        text-align: right;\n",
       "    }\n",
       "</style>\n",
       "<table border=\"1\" class=\"dataframe\">\n",
       "  <thead>\n",
       "    <tr style=\"text-align: right;\">\n",
       "      <th></th>\n",
       "      <th>Tweet</th>\n",
       "      <th>Positive</th>\n",
       "      <th>Neutral</th>\n",
       "      <th>Compound</th>\n",
       "    </tr>\n",
       "  </thead>\n",
       "  <tbody>\n",
       "    <tr>\n",
       "      <th>0</th>\n",
       "      <td>oh good love wait home</td>\n",
       "      <td>0.703</td>\n",
       "      <td>0.297</td>\n",
       "      <td>0.7964</td>\n",
       "    </tr>\n",
       "    <tr>\n",
       "      <th>1</th>\n",
       "      <td>hello loveliestonight jumping back made copper...</td>\n",
       "      <td>0.000</td>\n",
       "      <td>1.000</td>\n",
       "      <td>0.0000</td>\n",
       "    </tr>\n",
       "    <tr>\n",
       "      <th>2</th>\n",
       "      <td>storyline noi found block fighting giant drago...</td>\n",
       "      <td>0.000</td>\n",
       "      <td>0.772</td>\n",
       "      <td>-0.7717</td>\n",
       "    </tr>\n",
       "    <tr>\n",
       "      <th>3</th>\n",
       "      <td>ayo totally biased anything go watch lil si</td>\n",
       "      <td>0.000</td>\n",
       "      <td>0.745</td>\n",
       "      <td>-0.3384</td>\n",
       "    </tr>\n",
       "    <tr>\n",
       "      <th>4</th>\n",
       "      <td>queen want solo cheating died biome felt impos...</td>\n",
       "      <td>0.188</td>\n",
       "      <td>0.348</td>\n",
       "      <td>-0.8360</td>\n",
       "    </tr>\n",
       "  </tbody>\n",
       "</table>\n",
       "</div>"
      ],
      "text/plain": [
       "                                               Tweet  Positive  Neutral  \\\n",
       "0                             oh good love wait home     0.703    0.297   \n",
       "1  hello loveliestonight jumping back made copper...     0.000    1.000   \n",
       "2  storyline noi found block fighting giant drago...     0.000    0.772   \n",
       "3        ayo totally biased anything go watch lil si     0.000    0.745   \n",
       "4  queen want solo cheating died biome felt impos...     0.188    0.348   \n",
       "\n",
       "   Compound  \n",
       "0    0.7964  \n",
       "1    0.0000  \n",
       "2   -0.7717  \n",
       "3   -0.3384  \n",
       "4   -0.8360  "
      ]
     },
     "execution_count": 9,
     "metadata": {},
     "output_type": "execute_result"
    }
   ],
   "source": [
    "#Add new columns to the dataframe for the result of the analyzer\n",
    "\n",
    "sentiments = SentimentIntensityAnalyzer()\n",
    "cleaned[\"Positive\"] = [sentiments.polarity_scores(i)[\"pos\"] for i in cleaned[\"Tweet\"]]\n",
    "cleaned[\"Neutral\"] = [sentiments.polarity_scores(i)[\"neu\"] for i in cleaned[\"Tweet\"]]\n",
    "cleaned['Compound'] = [sentiments.polarity_scores(i)[\"compound\"] for i in cleaned[\"Tweet\"]]\n",
    "\n",
    "cleaned.head()"
   ]
  },
  {
   "cell_type": "code",
   "execution_count": 10,
   "id": "d3d94bf4",
   "metadata": {
    "scrolled": false
   },
   "outputs": [
    {
     "data": {
      "text/html": [
       "<div>\n",
       "<style scoped>\n",
       "    .dataframe tbody tr th:only-of-type {\n",
       "        vertical-align: middle;\n",
       "    }\n",
       "\n",
       "    .dataframe tbody tr th {\n",
       "        vertical-align: top;\n",
       "    }\n",
       "\n",
       "    .dataframe thead th {\n",
       "        text-align: right;\n",
       "    }\n",
       "</style>\n",
       "<table border=\"1\" class=\"dataframe\">\n",
       "  <thead>\n",
       "    <tr style=\"text-align: right;\">\n",
       "      <th></th>\n",
       "      <th>Tweet</th>\n",
       "      <th>Positive</th>\n",
       "      <th>Neutral</th>\n",
       "      <th>Compound</th>\n",
       "      <th>Sentiment</th>\n",
       "    </tr>\n",
       "  </thead>\n",
       "  <tbody>\n",
       "    <tr>\n",
       "      <th>0</th>\n",
       "      <td>oh good love wait home</td>\n",
       "      <td>0.703</td>\n",
       "      <td>0.297</td>\n",
       "      <td>0.7964</td>\n",
       "      <td>1</td>\n",
       "    </tr>\n",
       "    <tr>\n",
       "      <th>1</th>\n",
       "      <td>hello loveliestonight jumping back made copper...</td>\n",
       "      <td>0.000</td>\n",
       "      <td>1.000</td>\n",
       "      <td>0.0000</td>\n",
       "      <td>0</td>\n",
       "    </tr>\n",
       "    <tr>\n",
       "      <th>2</th>\n",
       "      <td>storyline noi found block fighting giant drago...</td>\n",
       "      <td>0.000</td>\n",
       "      <td>0.772</td>\n",
       "      <td>-0.7717</td>\n",
       "      <td>0</td>\n",
       "    </tr>\n",
       "    <tr>\n",
       "      <th>3</th>\n",
       "      <td>ayo totally biased anything go watch lil si</td>\n",
       "      <td>0.000</td>\n",
       "      <td>0.745</td>\n",
       "      <td>-0.3384</td>\n",
       "      <td>0</td>\n",
       "    </tr>\n",
       "    <tr>\n",
       "      <th>4</th>\n",
       "      <td>queen want solo cheating died biome felt impos...</td>\n",
       "      <td>0.188</td>\n",
       "      <td>0.348</td>\n",
       "      <td>-0.8360</td>\n",
       "      <td>0</td>\n",
       "    </tr>\n",
       "  </tbody>\n",
       "</table>\n",
       "</div>"
      ],
      "text/plain": [
       "                                               Tweet  Positive  Neutral  \\\n",
       "0                             oh good love wait home     0.703    0.297   \n",
       "1  hello loveliestonight jumping back made copper...     0.000    1.000   \n",
       "2  storyline noi found block fighting giant drago...     0.000    0.772   \n",
       "3        ayo totally biased anything go watch lil si     0.000    0.745   \n",
       "4  queen want solo cheating died biome felt impos...     0.188    0.348   \n",
       "\n",
       "   Compound  Sentiment  \n",
       "0    0.7964          1  \n",
       "1    0.0000          0  \n",
       "2   -0.7717          0  \n",
       "3   -0.3384          0  \n",
       "4   -0.8360          0  "
      ]
     },
     "execution_count": 10,
     "metadata": {},
     "output_type": "execute_result"
    }
   ],
   "source": [
    "#Create a new column in the dataframe to store the sentiment of each tweets using Compound value\n",
    "\n",
    "score = cleaned[\"Compound\"].values\n",
    "sentiment = []\n",
    "for i in score:\n",
    "    if i > 0 :\n",
    "        sentiment.append(1)\n",
    "    else:\n",
    "        sentiment.append(0)\n",
    "cleaned[\"Sentiment\"] = sentiment\n",
    "\n",
    "cleaned.head()"
   ]
  },
  {
   "cell_type": "code",
   "execution_count": 11,
   "id": "b5d16cbc",
   "metadata": {},
   "outputs": [],
   "source": [
    "token = RegexpTokenizer(r'[a-zA-Z0-9]+')\n",
    "cv = CountVectorizer(ngram_range=(1,1), tokenizer=token.tokenize)\n",
    "textcount = cv.fit_transform(cleaned[\"Tweet\"])"
   ]
  },
  {
   "cell_type": "code",
   "execution_count": 12,
   "id": "c80b0746",
   "metadata": {},
   "outputs": [],
   "source": [
    "X = textcount\n",
    "y = cleaned[\"Sentiment\"]\n",
    "X_train, X_test, y_train, y_test = train_test_split(X, y, test_size=0.3, random_state=26)"
   ]
  },
  {
   "cell_type": "markdown",
   "id": "91844525",
   "metadata": {},
   "source": [
    "## Modeling"
   ]
  },
  {
   "cell_type": "code",
   "execution_count": 13,
   "id": "4833f120",
   "metadata": {
    "scrolled": true
   },
   "outputs": [
    {
     "data": {
      "text/plain": [
       "ComplementNB()"
      ]
     },
     "execution_count": 13,
     "metadata": {},
     "output_type": "execute_result"
    }
   ],
   "source": [
    "MNB = MultinomialNB()\n",
    "MNB.fit(X_train, y_train)\n",
    "\n",
    "BNB = BernoulliNB()\n",
    "BNB.fit(X_train, y_train)\n",
    "\n",
    "CNB = ComplementNB()\n",
    "CNB.fit(X_train, y_train)"
   ]
  },
  {
   "cell_type": "code",
   "execution_count": 14,
   "id": "e27b9a4c",
   "metadata": {
    "scrolled": true
   },
   "outputs": [
    {
     "name": "stdout",
     "output_type": "stream",
     "text": [
      "Accuracy of Multinomial Naive Bayes: 80.87%\n",
      "Accuracy of Bernoulli Naive Bayes: 77.07%\n",
      "Accuracy of Complement Naive Bayes: 79.67%\n"
     ]
    }
   ],
   "source": [
    "y_pred = MNB.predict(X_test)\n",
    "print(\"Accuracy of Multinomial Naive Bayes: {:.2f}%\".format(metrics.accuracy_score(y_pred, y_test)*100))\n",
    "\n",
    "y_pred = BNB.predict(X_test)\n",
    "print(\"Accuracy of Bernoulli Naive Bayes: {:.2f}%\".format(metrics.accuracy_score(y_pred, y_test)*100))\n",
    "\n",
    "y_pred = CNB.predict(X_test)\n",
    "print(\"Accuracy of Complement Naive Bayes: {:.2f}%\".format(metrics.accuracy_score(y_pred, y_test)*100))"
   ]
  },
  {
   "cell_type": "markdown",
   "id": "0f46f297",
   "metadata": {},
   "source": [
    "From this result, it shows that Multinomial Naive Bayes is the best algorithm with the most accuracy of 80.87%, just slightly above Complement Naive Bayes with 79.67% of accuracy."
   ]
  },
  {
   "cell_type": "code",
   "execution_count": 16,
   "id": "5d7de8f8",
   "metadata": {
    "scrolled": true
   },
   "outputs": [
    {
     "name": "stdout",
     "output_type": "stream",
     "text": [
      "Accuracy of Multinomial Naive Bayes 10 k-folds: 81.02%\n",
      "Accuracy of Bernoulli Naive Bayes 10 k-folds: 78.68%\n",
      "Accuracy of Complement Naive Bayes 10 k-folds: 79.98%\n"
     ]
    }
   ],
   "source": [
    "MNB = MultinomialNB()\n",
    "cvMNB = cross_validate(MNB, X, y, cv=10)\n",
    "print(\"Accuracy of Multinomial Naive Bayes 10 k-folds: {:.2f}%\".format(cvMNB['test_score'].mean()*100))\n",
    "\n",
    "BNB = BernoulliNB()\n",
    "cvBNB = cross_validate(BNB, X, y, cv=10)\n",
    "print(\"Accuracy of Bernoulli Naive Bayes 10 k-folds: {:.2f}%\".format(cvBNB['test_score'].mean()*100))\n",
    "\n",
    "CNB = ComplementNB()\n",
    "cvCNB = cross_validate(CNB, X, y, cv=10)\n",
    "print(\"Accuracy of Complement Naive Bayes 10 k-folds: {:.2f}%\".format(cvCNB['test_score'].mean()*100))"
   ]
  },
  {
   "cell_type": "markdown",
   "id": "78800494",
   "metadata": {},
   "source": [
    "After the 10 k-fold cross validation, Multinomial Naive Bayes still is the best algorithm with average accuracy of 81.02%, just slightly above Complement Naive Bayes with average accuracy of 79.98%."
   ]
  }
 ],
 "metadata": {
  "kernelspec": {
   "display_name": "Python 3 (ipykernel)",
   "language": "python",
   "name": "python3"
  },
  "language_info": {
   "codemirror_mode": {
    "name": "ipython",
    "version": 3
   },
   "file_extension": ".py",
   "mimetype": "text/x-python",
   "name": "python",
   "nbconvert_exporter": "python",
   "pygments_lexer": "ipython3",
   "version": "3.9.7"
  }
 },
 "nbformat": 4,
 "nbformat_minor": 5
}
