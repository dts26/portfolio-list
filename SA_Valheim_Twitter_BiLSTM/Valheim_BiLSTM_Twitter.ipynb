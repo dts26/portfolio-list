{
 "cells": [
  {
   "cell_type": "markdown",
   "id": "e574e4f6",
   "metadata": {},
   "source": [
    "# Sentiment Analysis of Valheim (Video Game) based on Twitter Dataset using Keras BiLSTM"
   ]
  },
  {
   "cell_type": "code",
   "execution_count": 1,
   "id": "c226965b",
   "metadata": {
    "scrolled": true
   },
   "outputs": [],
   "source": [
    "import snscrape.modules.twitter as sntwitter\n",
    "import pandas as pd\n",
    "import numpy as np\n",
    "import matplotlib.pyplot as plt\n",
    "from guess_language import guess_language as guess\n",
    "from keras.preprocessing.text import Tokenizer\n",
    "import tensorflow as tf\n",
    "from tensorflow.keras.preprocessing.sequence import pad_sequences\n",
    "import preprocessor as p\n",
    "import nltk\n",
    "from nltk.corpus import stopwords\n",
    "from nltk.tokenize import word_tokenize\n",
    "from nltk.stem import WordNetLemmatizer\n",
    "import string\n",
    "from nltk.sentiment.vader import SentimentIntensityAnalyzer\n",
    "import keras\n",
    "from keras import layers\n",
    "from keras.models import Sequential\n",
    "from keras.layers import Input, LSTM, Dense, Bidirectional, Activation, Dropout, SpatialDropout1D\n",
    "from tensorflow.keras.layers import Embedding\n",
    "import keras.backend as K\n",
    "from sklearn.model_selection import train_test_split"
   ]
  },
  {
   "cell_type": "code",
   "execution_count": null,
   "id": "5709eb27",
   "metadata": {},
   "outputs": [],
   "source": [
    "#attrs = []\n",
    "#limit = 0\n",
    "\n",
    "#for i,tweet in enumerate(sntwitter.TwitterSearchScraper('Valheim since:2022-11-01 until:2022-12-16').get_items()):\n",
    "#    if limit>4999:\n",
    "#        break\n",
    "#    if(str(guess(tweet.content)) == \"en\"):\n",
    "#        attrs.append([tweet.user.username, tweet.date, tweet.likeCount, tweet.sourceLabel, tweet.content])\n",
    "#        limit += 1\n",
    "    \n",
    "## Creating a dataframe to load the list\n",
    "#df = pd.DataFrame(attrs, columns=[\"User\", \"Date Created\", \"Number of Likes\", \"Source of Tweet\", \"Tweet\"])"
   ]
  },
  {
   "cell_type": "code",
   "execution_count": null,
   "id": "fcaef920",
   "metadata": {},
   "outputs": [],
   "source": [
    "#df['Date Created'] = pd.to_datetime(df['Date Created']).dt.date"
   ]
  },
  {
   "cell_type": "code",
   "execution_count": 2,
   "id": "f10a8a5d",
   "metadata": {},
   "outputs": [],
   "source": [
    "df = pd.read_csv('scrapped_tweet.csv')\n",
    "df = df.iloc[:,1:]"
   ]
  },
  {
   "cell_type": "code",
   "execution_count": 3,
   "id": "e496daf1",
   "metadata": {
    "scrolled": true
   },
   "outputs": [
    {
     "name": "stdout",
     "output_type": "stream",
     "text": [
      "<class 'pandas.core.frame.DataFrame'>\n",
      "RangeIndex: 5000 entries, 0 to 4999\n",
      "Data columns (total 5 columns):\n",
      " #   Column           Non-Null Count  Dtype \n",
      "---  ------           --------------  ----- \n",
      " 0   User             5000 non-null   object\n",
      " 1   Date Created     5000 non-null   object\n",
      " 2   Number of Likes  5000 non-null   int64 \n",
      " 3   Source of Tweet  5000 non-null   object\n",
      " 4   Tweet            5000 non-null   object\n",
      "dtypes: int64(1), object(4)\n",
      "memory usage: 195.4+ KB\n"
     ]
    }
   ],
   "source": [
    "df.info()"
   ]
  },
  {
   "cell_type": "code",
   "execution_count": 4,
   "id": "d486ab99",
   "metadata": {
    "scrolled": true
   },
   "outputs": [
    {
     "data": {
      "text/html": [
       "<div>\n",
       "<style scoped>\n",
       "    .dataframe tbody tr th:only-of-type {\n",
       "        vertical-align: middle;\n",
       "    }\n",
       "\n",
       "    .dataframe tbody tr th {\n",
       "        vertical-align: top;\n",
       "    }\n",
       "\n",
       "    .dataframe thead th {\n",
       "        text-align: right;\n",
       "    }\n",
       "</style>\n",
       "<table border=\"1\" class=\"dataframe\">\n",
       "  <thead>\n",
       "    <tr style=\"text-align: right;\">\n",
       "      <th></th>\n",
       "      <th>User</th>\n",
       "      <th>Date Created</th>\n",
       "      <th>Number of Likes</th>\n",
       "      <th>Source of Tweet</th>\n",
       "      <th>Tweet</th>\n",
       "    </tr>\n",
       "  </thead>\n",
       "  <tbody>\n",
       "    <tr>\n",
       "      <th>0</th>\n",
       "      <td>ElPibeCombo</td>\n",
       "      <td>2022-12-15</td>\n",
       "      <td>0</td>\n",
       "      <td>Twitter Web App</td>\n",
       "      <td>@BS_artsss Oh, this is so good, i love it! can...</td>\n",
       "    </tr>\n",
       "    <tr>\n",
       "      <th>1</th>\n",
       "      <td>MrsTadertaut</td>\n",
       "      <td>2022-12-15</td>\n",
       "      <td>5</td>\n",
       "      <td>Twitter Web App</td>\n",
       "      <td>Hello lovelies!\\n\\nTonight we are jumping back...</td>\n",
       "    </tr>\n",
       "    <tr>\n",
       "      <th>2</th>\n",
       "      <td>Meganoip</td>\n",
       "      <td>2022-12-15</td>\n",
       "      <td>0</td>\n",
       "      <td>Twitter Web App</td>\n",
       "      <td>Storyline: Noi found Block fighting with giant...</td>\n",
       "    </tr>\n",
       "    <tr>\n",
       "      <th>3</th>\n",
       "      <td>TaesTeahouse</td>\n",
       "      <td>2022-12-15</td>\n",
       "      <td>2</td>\n",
       "      <td>Twitter Web App</td>\n",
       "      <td>Ayo I'm totally not biased or anything but yal...</td>\n",
       "    </tr>\n",
       "    <tr>\n",
       "      <th>4</th>\n",
       "      <td>John90192410</td>\n",
       "      <td>2022-12-15</td>\n",
       "      <td>1</td>\n",
       "      <td>Twitter for Android</td>\n",
       "      <td>The Queen Wants it all... \\nDid Mistlands solo...</td>\n",
       "    </tr>\n",
       "  </tbody>\n",
       "</table>\n",
       "</div>"
      ],
      "text/plain": [
       "           User Date Created  Number of Likes      Source of Tweet  \\\n",
       "0   ElPibeCombo   2022-12-15                0      Twitter Web App   \n",
       "1  MrsTadertaut   2022-12-15                5      Twitter Web App   \n",
       "2      Meganoip   2022-12-15                0      Twitter Web App   \n",
       "3  TaesTeahouse   2022-12-15                2      Twitter Web App   \n",
       "4  John90192410   2022-12-15                1  Twitter for Android   \n",
       "\n",
       "                                               Tweet  \n",
       "0  @BS_artsss Oh, this is so good, i love it! can...  \n",
       "1  Hello lovelies!\\n\\nTonight we are jumping back...  \n",
       "2  Storyline: Noi found Block fighting with giant...  \n",
       "3  Ayo I'm totally not biased or anything but yal...  \n",
       "4  The Queen Wants it all... \\nDid Mistlands solo...  "
      ]
     },
     "execution_count": 4,
     "metadata": {},
     "output_type": "execute_result"
    }
   ],
   "source": [
    "df.head()"
   ]
  },
  {
   "cell_type": "code",
   "execution_count": 5,
   "id": "e9f4719d",
   "metadata": {},
   "outputs": [],
   "source": [
    "wordnet_lemmatizer = WordNetLemmatizer()"
   ]
  },
  {
   "cell_type": "code",
   "execution_count": 6,
   "id": "7886692e",
   "metadata": {
    "scrolled": true
   },
   "outputs": [],
   "source": [
    "tweet = (df[\"Tweet\"].values.tolist())"
   ]
  },
  {
   "cell_type": "code",
   "execution_count": 7,
   "id": "2b4df5e0",
   "metadata": {},
   "outputs": [],
   "source": [
    "stop_words = nltk.corpus.stopwords.words('english')"
   ]
  },
  {
   "cell_type": "code",
   "execution_count": 8,
   "id": "8dd8a4d9",
   "metadata": {},
   "outputs": [],
   "source": [
    "clean_tweet = []\n",
    "for i in range(0,len(tweet)):\n",
    "    temp = p.clean(tweet[i]).casefold()\n",
    "    temp = temp.translate(str.maketrans('', '', string.punctuation))\n",
    "    filtered = []\n",
    "    words_temp = word_tokenize(temp)\n",
    "    for c in words_temp:\n",
    "        if c not in stop_words:\n",
    "            c = wordnet_lemmatizer.lemmatize(c)\n",
    "            filtered.append(c)\n",
    "    cleaned = \" \".join(filtered)\n",
    "    clean_tweet.append(cleaned)\n",
    "    \n",
    "clean_tweet = pd.DataFrame(clean_tweet, columns=[\"Tweet\"])"
   ]
  },
  {
   "cell_type": "code",
   "execution_count": 9,
   "id": "74749f28",
   "metadata": {
    "scrolled": true
   },
   "outputs": [
    {
     "data": {
      "text/html": [
       "<div>\n",
       "<style scoped>\n",
       "    .dataframe tbody tr th:only-of-type {\n",
       "        vertical-align: middle;\n",
       "    }\n",
       "\n",
       "    .dataframe tbody tr th {\n",
       "        vertical-align: top;\n",
       "    }\n",
       "\n",
       "    .dataframe thead th {\n",
       "        text-align: right;\n",
       "    }\n",
       "</style>\n",
       "<table border=\"1\" class=\"dataframe\">\n",
       "  <thead>\n",
       "    <tr style=\"text-align: right;\">\n",
       "      <th></th>\n",
       "      <th>Tweet</th>\n",
       "      <th>Positive</th>\n",
       "      <th>Negative</th>\n",
       "      <th>Neutral</th>\n",
       "      <th>Compound</th>\n",
       "    </tr>\n",
       "  </thead>\n",
       "  <tbody>\n",
       "    <tr>\n",
       "      <th>0</th>\n",
       "      <td>oh good love cant wait get home play valheim</td>\n",
       "      <td>0.613</td>\n",
       "      <td>0.000</td>\n",
       "      <td>0.387</td>\n",
       "      <td>0.8591</td>\n",
       "    </tr>\n",
       "    <tr>\n",
       "      <th>1</th>\n",
       "      <td>hello loveliestonight jumping back made copper...</td>\n",
       "      <td>0.000</td>\n",
       "      <td>0.000</td>\n",
       "      <td>1.000</td>\n",
       "      <td>0.0000</td>\n",
       "    </tr>\n",
       "    <tr>\n",
       "      <th>2</th>\n",
       "      <td>storyline noi found block fighting giant valhe...</td>\n",
       "      <td>0.000</td>\n",
       "      <td>0.216</td>\n",
       "      <td>0.784</td>\n",
       "      <td>-0.7717</td>\n",
       "    </tr>\n",
       "    <tr>\n",
       "      <th>3</th>\n",
       "      <td>ayo im totally biased anything yall go watch l...</td>\n",
       "      <td>0.162</td>\n",
       "      <td>0.162</td>\n",
       "      <td>0.676</td>\n",
       "      <td>0.0018</td>\n",
       "    </tr>\n",
       "    <tr>\n",
       "      <th>4</th>\n",
       "      <td>queen want mistlands solo cheating died time b...</td>\n",
       "      <td>0.176</td>\n",
       "      <td>0.433</td>\n",
       "      <td>0.391</td>\n",
       "      <td>-0.8360</td>\n",
       "    </tr>\n",
       "  </tbody>\n",
       "</table>\n",
       "</div>"
      ],
      "text/plain": [
       "                                               Tweet  Positive  Negative  \\\n",
       "0       oh good love cant wait get home play valheim     0.613     0.000   \n",
       "1  hello loveliestonight jumping back made copper...     0.000     0.000   \n",
       "2  storyline noi found block fighting giant valhe...     0.000     0.216   \n",
       "3  ayo im totally biased anything yall go watch l...     0.162     0.162   \n",
       "4  queen want mistlands solo cheating died time b...     0.176     0.433   \n",
       "\n",
       "   Neutral  Compound  \n",
       "0    0.387    0.8591  \n",
       "1    1.000    0.0000  \n",
       "2    0.784   -0.7717  \n",
       "3    0.676    0.0018  \n",
       "4    0.391   -0.8360  "
      ]
     },
     "execution_count": 9,
     "metadata": {},
     "output_type": "execute_result"
    }
   ],
   "source": [
    "sentiments = SentimentIntensityAnalyzer()\n",
    "clean_tweet[\"Positive\"] = [sentiments.polarity_scores(i)[\"pos\"] for i in clean_tweet[\"Tweet\"]]\n",
    "clean_tweet[\"Negative\"] = [sentiments.polarity_scores(i)[\"neg\"] for i in clean_tweet[\"Tweet\"]]\n",
    "clean_tweet[\"Neutral\"] = [sentiments.polarity_scores(i)[\"neu\"] for i in clean_tweet[\"Tweet\"]]\n",
    "clean_tweet['Compound'] = [sentiments.polarity_scores(i)[\"compound\"] for i in clean_tweet[\"Tweet\"]]\n",
    "\n",
    "clean_tweet.head()"
   ]
  },
  {
   "cell_type": "code",
   "execution_count": 13,
   "id": "4271290c",
   "metadata": {},
   "outputs": [
    {
     "data": {
      "text/html": [
       "<div>\n",
       "<style scoped>\n",
       "    .dataframe tbody tr th:only-of-type {\n",
       "        vertical-align: middle;\n",
       "    }\n",
       "\n",
       "    .dataframe tbody tr th {\n",
       "        vertical-align: top;\n",
       "    }\n",
       "\n",
       "    .dataframe thead th {\n",
       "        text-align: right;\n",
       "    }\n",
       "</style>\n",
       "<table border=\"1\" class=\"dataframe\">\n",
       "  <thead>\n",
       "    <tr style=\"text-align: right;\">\n",
       "      <th></th>\n",
       "      <th>Tweet</th>\n",
       "      <th>Positive</th>\n",
       "      <th>Negative</th>\n",
       "      <th>Neutral</th>\n",
       "      <th>Compound</th>\n",
       "      <th>Sentiment</th>\n",
       "    </tr>\n",
       "  </thead>\n",
       "  <tbody>\n",
       "    <tr>\n",
       "      <th>0</th>\n",
       "      <td>oh good love cant wait get home play valheim</td>\n",
       "      <td>0.613</td>\n",
       "      <td>0.000</td>\n",
       "      <td>0.387</td>\n",
       "      <td>0.8591</td>\n",
       "      <td>1</td>\n",
       "    </tr>\n",
       "    <tr>\n",
       "      <th>1</th>\n",
       "      <td>hello loveliestonight jumping back made copper...</td>\n",
       "      <td>0.000</td>\n",
       "      <td>0.000</td>\n",
       "      <td>1.000</td>\n",
       "      <td>0.0000</td>\n",
       "      <td>0</td>\n",
       "    </tr>\n",
       "    <tr>\n",
       "      <th>2</th>\n",
       "      <td>storyline noi found block fighting giant valhe...</td>\n",
       "      <td>0.000</td>\n",
       "      <td>0.216</td>\n",
       "      <td>0.784</td>\n",
       "      <td>-0.7717</td>\n",
       "      <td>0</td>\n",
       "    </tr>\n",
       "    <tr>\n",
       "      <th>3</th>\n",
       "      <td>ayo im totally biased anything yall go watch l...</td>\n",
       "      <td>0.162</td>\n",
       "      <td>0.162</td>\n",
       "      <td>0.676</td>\n",
       "      <td>0.0018</td>\n",
       "      <td>0</td>\n",
       "    </tr>\n",
       "    <tr>\n",
       "      <th>4</th>\n",
       "      <td>queen want mistlands solo cheating died time b...</td>\n",
       "      <td>0.176</td>\n",
       "      <td>0.433</td>\n",
       "      <td>0.391</td>\n",
       "      <td>-0.8360</td>\n",
       "      <td>0</td>\n",
       "    </tr>\n",
       "  </tbody>\n",
       "</table>\n",
       "</div>"
      ],
      "text/plain": [
       "                                               Tweet  Positive  Negative  \\\n",
       "0       oh good love cant wait get home play valheim     0.613     0.000   \n",
       "1  hello loveliestonight jumping back made copper...     0.000     0.000   \n",
       "2  storyline noi found block fighting giant valhe...     0.000     0.216   \n",
       "3  ayo im totally biased anything yall go watch l...     0.162     0.162   \n",
       "4  queen want mistlands solo cheating died time b...     0.176     0.433   \n",
       "\n",
       "   Neutral  Compound  Sentiment  \n",
       "0    0.387    0.8591          1  \n",
       "1    1.000    0.0000          0  \n",
       "2    0.784   -0.7717          0  \n",
       "3    0.676    0.0018          0  \n",
       "4    0.391   -0.8360          0  "
      ]
     },
     "execution_count": 13,
     "metadata": {},
     "output_type": "execute_result"
    }
   ],
   "source": [
    "score = clean_tweet[\"Compound\"].values\n",
    "sentiment = []\n",
    "for i in score:\n",
    "    if i >= 0.05 :\n",
    "        sentiment.append(1)\n",
    "    elif i <= -0.05 :\n",
    "        sentiment.append(0)\n",
    "    else:\n",
    "        sentiment.append(0)\n",
    "clean_tweet[\"Sentiment\"] = sentiment\n",
    "\n",
    "clean_tweet.head()"
   ]
  },
  {
   "cell_type": "code",
   "execution_count": 10,
   "id": "1efca3dc",
   "metadata": {
    "scrolled": true
   },
   "outputs": [],
   "source": [
    "t = Tokenizer()\n",
    "t.fit_on_texts(clean_tweet[\"Tweet\"])"
   ]
  },
  {
   "cell_type": "code",
   "execution_count": 11,
   "id": "1e67d475",
   "metadata": {},
   "outputs": [],
   "source": [
    "vocab_size = len(t.word_index) + 1\n",
    "input_length = 25\n",
    "encoded_reviews = t.texts_to_sequences(tweet)\n",
    "padded_reviews = pad_sequences(encoded_reviews, padding='post', maxlen=100)"
   ]
  },
  {
   "cell_type": "code",
   "execution_count": 14,
   "id": "2770fa77",
   "metadata": {},
   "outputs": [],
   "source": [
    "X = padded_reviews\n",
    "y = clean_tweet[\"Sentiment\"]"
   ]
  },
  {
   "cell_type": "code",
   "execution_count": 15,
   "id": "59366ec5",
   "metadata": {},
   "outputs": [],
   "source": [
    "X_train, X_test, y_train, y_test = train_test_split(X, y, test_size=0.4, random_state=26)"
   ]
  },
  {
   "cell_type": "code",
   "execution_count": 16,
   "id": "0b0494fa",
   "metadata": {},
   "outputs": [
    {
     "name": "stdout",
     "output_type": "stream",
     "text": [
      "Model: \"sequential\"\n",
      "_________________________________________________________________\n",
      " Layer (type)                Output Shape              Param #   \n",
      "=================================================================\n",
      " embedding (Embedding)       (None, 100, 10)           81710     \n",
      "                                                                 \n",
      " bidirectional (Bidirectiona  (None, 100, 10)          640       \n",
      " l)                                                              \n",
      "                                                                 \n",
      " bidirectional_1 (Bidirectio  (None, 10)               640       \n",
      " nal)                                                            \n",
      "                                                                 \n",
      " activation (Activation)     (None, 10)                0         \n",
      "                                                                 \n",
      " dense (Dense)               (None, 1)                 11        \n",
      "                                                                 \n",
      "=================================================================\n",
      "Total params: 83,001\n",
      "Trainable params: 83,001\n",
      "Non-trainable params: 0\n",
      "_________________________________________________________________\n"
     ]
    }
   ],
   "source": [
    "model = Sequential()\n",
    "model.add(Embedding(vocab_size, 10, input_length = 100))\n",
    "model.add(Bidirectional(LSTM(5, return_sequences=True)))\n",
    "model.add(Bidirectional(LSTM(5)))\n",
    "model.add(Activation('relu'))\n",
    "model.add(Dense(1,activation='sigmoid'))\n",
    "model.compile(loss=['binary_crossentropy'] , optimizer='Adam', metrics=['accuracy'])\n",
    "model.summary()"
   ]
  },
  {
   "cell_type": "code",
   "execution_count": 17,
   "id": "a33da2ad",
   "metadata": {
    "scrolled": true
   },
   "outputs": [
    {
     "name": "stdout",
     "output_type": "stream",
     "text": [
      "Epoch 1/3\n",
      "86/86 [==============================] - 12s 73ms/step - loss: 0.6876 - accuracy: 0.5337 - val_loss: 0.6722 - val_accuracy: 0.6605\n",
      "Epoch 2/3\n",
      "86/86 [==============================] - 5s 63ms/step - loss: 0.6120 - accuracy: 0.7170 - val_loss: 0.5803 - val_accuracy: 0.7150\n",
      "Epoch 3/3\n",
      "86/86 [==============================] - 5s 63ms/step - loss: 0.4559 - accuracy: 0.8437 - val_loss: 0.5139 - val_accuracy: 0.7845\n"
     ]
    }
   ],
   "source": [
    "model.compile(optimizer='Adam',loss='binary_crossentropy',metrics=['accuracy'])\n",
    "\n",
    "history = model.fit(X_train,y_train,validation_data=(X_test,y_test),batch_size=35,epochs=3)"
   ]
  },
  {
   "cell_type": "code",
   "execution_count": 18,
   "id": "46d5ecd0",
   "metadata": {
    "scrolled": true
   },
   "outputs": [
    {
     "data": {
      "image/png": "[encoded data removed]",
      "text/plain": [
       "<Figure size 432x288 with 1 Axes>"
      ]
     },
     "metadata": {
      "needs_background": "light"
     },
     "output_type": "display_data"
    }
   ],
   "source": [
    "plt.plot(history.history['loss'])\n",
    "plt.plot(history.history['val_loss'])\n",
    "plt.title('model train vs validation loss')\n",
    "plt.ylabel('loss')\n",
    "plt.xlabel('epoch')\n",
    "plt.legend(['train', 'validation'], loc='upper right')\n",
    "plt.show()"
   ]
  }
 ],
 "metadata": {
  "kernelspec": {
   "display_name": "Python 3 (ipykernel)",
   "language": "python",
   "name": "python3"
  },
  "language_info": {
   "codemirror_mode": {
    "name": "ipython",
    "version": 3
   },
   "file_extension": ".py",
   "mimetype": "text/x-python",
   "name": "python",
   "nbconvert_exporter": "python",
   "pygments_lexer": "ipython3",
   "version": "3.9.7"
  }
 },
 "nbformat": 4,
 "nbformat_minor": 5
}
