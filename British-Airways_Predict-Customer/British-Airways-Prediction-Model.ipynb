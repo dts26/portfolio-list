{
 "cells": [
  {
   "cell_type": "code",
   "execution_count": 1,
   "id": "93be92f4",
   "metadata": {},
   "outputs": [],
   "source": [
    "import pandas as pd\n",
    "import numpy as np\n",
    "import matplotlib.pyplot as plt\n",
    "from sklearn.model_selection import train_test_split\n",
    "from sklearn.tree import DecisionTreeClassifier\n",
    "from sklearn import metrics\n",
    "from sklearn.model_selection import cross_validate\n",
    "from sklearn.metrics import classification_report\n",
    "from imblearn.over_sampling import RandomOverSampler"
   ]
  },
  {
   "cell_type": "code",
   "execution_count": 2,
   "id": "d470417d",
   "metadata": {},
   "outputs": [],
   "source": [
    "df = pd.read_csv(\"customer_booking.csv\", encoding='latin-1')"
   ]
  },
  {
   "cell_type": "code",
   "execution_count": 3,
   "id": "bb1f39cc",
   "metadata": {
    "scrolled": true
   },
   "outputs": [
    {
     "data": {
      "text/html": [
       "<div>\n",
       "<style scoped>\n",
       "    .dataframe tbody tr th:only-of-type {\n",
       "        vertical-align: middle;\n",
       "    }\n",
       "\n",
       "    .dataframe tbody tr th {\n",
       "        vertical-align: top;\n",
       "    }\n",
       "\n",
       "    .dataframe thead th {\n",
       "        text-align: right;\n",
       "    }\n",
       "</style>\n",
       "<table border=\"1\" class=\"dataframe\">\n",
       "  <thead>\n",
       "    <tr style=\"text-align: right;\">\n",
       "      <th></th>\n",
       "      <th>num_passengers</th>\n",
       "      <th>sales_channel</th>\n",
       "      <th>trip_type</th>\n",
       "      <th>purchase_lead</th>\n",
       "      <th>length_of_stay</th>\n",
       "      <th>flight_hour</th>\n",
       "      <th>flight_day</th>\n",
       "      <th>route</th>\n",
       "      <th>booking_origin</th>\n",
       "      <th>wants_extra_baggage</th>\n",
       "      <th>wants_preferred_seat</th>\n",
       "      <th>wants_in_flight_meals</th>\n",
       "      <th>flight_duration</th>\n",
       "      <th>booking_complete</th>\n",
       "    </tr>\n",
       "  </thead>\n",
       "  <tbody>\n",
       "    <tr>\n",
       "      <th>0</th>\n",
       "      <td>2</td>\n",
       "      <td>Internet</td>\n",
       "      <td>RoundTrip</td>\n",
       "      <td>262</td>\n",
       "      <td>19</td>\n",
       "      <td>7</td>\n",
       "      <td>Sat</td>\n",
       "      <td>AKLDEL</td>\n",
       "      <td>New Zealand</td>\n",
       "      <td>1</td>\n",
       "      <td>0</td>\n",
       "      <td>0</td>\n",
       "      <td>5.52</td>\n",
       "      <td>0</td>\n",
       "    </tr>\n",
       "    <tr>\n",
       "      <th>1</th>\n",
       "      <td>1</td>\n",
       "      <td>Internet</td>\n",
       "      <td>RoundTrip</td>\n",
       "      <td>112</td>\n",
       "      <td>20</td>\n",
       "      <td>3</td>\n",
       "      <td>Sat</td>\n",
       "      <td>AKLDEL</td>\n",
       "      <td>New Zealand</td>\n",
       "      <td>0</td>\n",
       "      <td>0</td>\n",
       "      <td>0</td>\n",
       "      <td>5.52</td>\n",
       "      <td>0</td>\n",
       "    </tr>\n",
       "    <tr>\n",
       "      <th>2</th>\n",
       "      <td>2</td>\n",
       "      <td>Internet</td>\n",
       "      <td>RoundTrip</td>\n",
       "      <td>243</td>\n",
       "      <td>22</td>\n",
       "      <td>17</td>\n",
       "      <td>Wed</td>\n",
       "      <td>AKLDEL</td>\n",
       "      <td>India</td>\n",
       "      <td>1</td>\n",
       "      <td>1</td>\n",
       "      <td>0</td>\n",
       "      <td>5.52</td>\n",
       "      <td>0</td>\n",
       "    </tr>\n",
       "    <tr>\n",
       "      <th>3</th>\n",
       "      <td>1</td>\n",
       "      <td>Internet</td>\n",
       "      <td>RoundTrip</td>\n",
       "      <td>96</td>\n",
       "      <td>31</td>\n",
       "      <td>4</td>\n",
       "      <td>Sat</td>\n",
       "      <td>AKLDEL</td>\n",
       "      <td>New Zealand</td>\n",
       "      <td>0</td>\n",
       "      <td>0</td>\n",
       "      <td>1</td>\n",
       "      <td>5.52</td>\n",
       "      <td>0</td>\n",
       "    </tr>\n",
       "    <tr>\n",
       "      <th>4</th>\n",
       "      <td>2</td>\n",
       "      <td>Internet</td>\n",
       "      <td>RoundTrip</td>\n",
       "      <td>68</td>\n",
       "      <td>22</td>\n",
       "      <td>15</td>\n",
       "      <td>Wed</td>\n",
       "      <td>AKLDEL</td>\n",
       "      <td>India</td>\n",
       "      <td>1</td>\n",
       "      <td>0</td>\n",
       "      <td>1</td>\n",
       "      <td>5.52</td>\n",
       "      <td>0</td>\n",
       "    </tr>\n",
       "  </tbody>\n",
       "</table>\n",
       "</div>"
      ],
      "text/plain": [
       "   num_passengers sales_channel  trip_type  purchase_lead  length_of_stay  \\\n",
       "0               2      Internet  RoundTrip            262              19   \n",
       "1               1      Internet  RoundTrip            112              20   \n",
       "2               2      Internet  RoundTrip            243              22   \n",
       "3               1      Internet  RoundTrip             96              31   \n",
       "4               2      Internet  RoundTrip             68              22   \n",
       "\n",
       "   flight_hour flight_day   route booking_origin  wants_extra_baggage  \\\n",
       "0            7        Sat  AKLDEL    New Zealand                    1   \n",
       "1            3        Sat  AKLDEL    New Zealand                    0   \n",
       "2           17        Wed  AKLDEL          India                    1   \n",
       "3            4        Sat  AKLDEL    New Zealand                    0   \n",
       "4           15        Wed  AKLDEL          India                    1   \n",
       "\n",
       "   wants_preferred_seat  wants_in_flight_meals  flight_duration  \\\n",
       "0                     0                      0             5.52   \n",
       "1                     0                      0             5.52   \n",
       "2                     1                      0             5.52   \n",
       "3                     0                      1             5.52   \n",
       "4                     0                      1             5.52   \n",
       "\n",
       "   booking_complete  \n",
       "0                 0  \n",
       "1                 0  \n",
       "2                 0  \n",
       "3                 0  \n",
       "4                 0  "
      ]
     },
     "execution_count": 3,
     "metadata": {},
     "output_type": "execute_result"
    }
   ],
   "source": [
    "df.head()"
   ]
  },
  {
   "cell_type": "code",
   "execution_count": 4,
   "id": "fb25691e",
   "metadata": {},
   "outputs": [],
   "source": [
    "mapping = {\n",
    "    \"Mon\": 1,\n",
    "    \"Tue\": 2,\n",
    "    \"Wed\": 3,\n",
    "    \"Thu\": 4,\n",
    "    \"Fri\": 5,\n",
    "    \"Sat\": 6,\n",
    "    \"Sun\": 7,\n",
    "}\n",
    "\n",
    "df[\"flight_day\"] = df[\"flight_day\"].map(mapping)"
   ]
  },
  {
   "cell_type": "code",
   "execution_count": 5,
   "id": "62313157",
   "metadata": {
    "scrolled": false
   },
   "outputs": [
    {
     "data": {
      "image/png": "[encoded data removed]",
      "text/plain": [
       "<Figure size 576x360 with 1 Axes>"
      ]
     },
     "metadata": {
      "needs_background": "light"
     },
     "output_type": "display_data"
    }
   ],
   "source": [
    "x, height = [sorted(list(df['num_passengers'].unique().astype(str))), \n",
    "             list(df['num_passengers'].value_counts().sort_index())]\n",
    "plt.figure(figsize=(8, 5))\n",
    "plt.bar(x, height, color=['royalblue'], edgecolor=\"black\")\n",
    "plt.title(\"Number of Passengers\")\n",
    "_, _, _, ymax = plt.axis()\n",
    "for i in range(0, len(x)):\n",
    "        plt.text(i,(height[i])+(ymax/120),height[i], ha = 'center', size=10)"
   ]
  },
  {
   "cell_type": "code",
   "execution_count": 6,
   "id": "b6200a92",
   "metadata": {
    "scrolled": false
   },
   "outputs": [
    {
     "data": {
      "image/png": "[encoded data removed]",
      "text/plain": [
       "<Figure size 576x360 with 1 Axes>"
      ]
     },
     "metadata": {
      "needs_background": "light"
     },
     "output_type": "display_data"
    }
   ],
   "source": [
    "x, height = [sorted(list(df['sales_channel'].unique().astype(str))), \n",
    "             list(df['sales_channel'].value_counts().sort_index())]\n",
    "plt.figure(figsize=(8, 5))\n",
    "plt.bar(x, height, color=['royalblue'], edgecolor=\"black\")\n",
    "plt.title(\"Sales Channel\")\n",
    "_, _, _, ymax = plt.axis()\n",
    "for i in range(0, len(x)):\n",
    "        plt.text(i,(height[i])+(ymax/125),height[i], ha = 'center', size=10)"
   ]
  },
  {
   "cell_type": "code",
   "execution_count": 7,
   "id": "706d36c0",
   "metadata": {
    "scrolled": false
   },
   "outputs": [
    {
     "data": {
      "image/png": "[encoded data removed]",
      "text/plain": [
       "<Figure size 576x360 with 1 Axes>"
      ]
     },
     "metadata": {
      "needs_background": "light"
     },
     "output_type": "display_data"
    }
   ],
   "source": [
    "x, height = [sorted(list(df['trip_type'].unique().astype(str))), \n",
    "             list(df['trip_type'].value_counts().sort_index())]\n",
    "plt.figure(figsize=(8, 5))\n",
    "plt.bar(x, height, color=['royalblue'], edgecolor=\"black\")\n",
    "plt.title(\"Trip Type\")\n",
    "_, _, _, ymax = plt.axis()\n",
    "for i in range(0, len(x)):\n",
    "        plt.text(i,(height[i])+(ymax/125),height[i], ha = 'center', size=10)"
   ]
  },
  {
   "cell_type": "code",
   "execution_count": 8,
   "id": "10dd9a3b",
   "metadata": {
    "scrolled": true
   },
   "outputs": [
    {
     "data": {
      "image/png": "[encoded data removed]",
      "text/plain": [
       "<Figure size 432x288 with 1 Axes>"
      ]
     },
     "metadata": {
      "needs_background": "light"
     },
     "output_type": "display_data"
    }
   ],
   "source": [
    "_, _, label = plt.hist(df['purchase_lead'], color=['royalblue'], edgecolor='black', bins=15)\n",
    "plt.title(\"Purchase Lead\")\n",
    "plt.bar_label(label);"
   ]
  },
  {
   "cell_type": "code",
   "execution_count": 9,
   "id": "a46bd8ec",
   "metadata": {
    "scrolled": false
   },
   "outputs": [
    {
     "data": {
      "image/png": "[encoded data removed]",
      "text/plain": [
       "<Figure size 432x288 with 1 Axes>"
      ]
     },
     "metadata": {
      "needs_background": "light"
     },
     "output_type": "display_data"
    }
   ],
   "source": [
    "_, _, label = plt.hist(df['length_of_stay'], color=['royalblue'], edgecolor='black',bins=15)\n",
    "plt.title(\"Length of Stay\")\n",
    "plt.bar_label(label);"
   ]
  },
  {
   "cell_type": "code",
   "execution_count": 10,
   "id": "845b8659",
   "metadata": {
    "scrolled": true
   },
   "outputs": [
    {
     "data": {
      "image/png": "[encoded data removed]",
      "text/plain": [
       "<Figure size 432x288 with 1 Axes>"
      ]
     },
     "metadata": {
      "needs_background": "light"
     },
     "output_type": "display_data"
    }
   ],
   "source": [
    "_, _, label = plt.hist(df['flight_hour'], color=['royalblue'], edgecolor='black',bins=23)\n",
    "for i in range(len(label)):\n",
    "    if(i%2 == 0):\n",
    "        label[i].set_facecolor('crimson')\n",
    "plt.title(\"Flight Hour\");"
   ]
  },
  {
   "cell_type": "code",
   "execution_count": 11,
   "id": "6322c97a",
   "metadata": {
    "scrolled": true
   },
   "outputs": [
    {
     "data": {
      "image/png": "[encoded data removed]",
      "text/plain": [
       "<Figure size 576x360 with 1 Axes>"
      ]
     },
     "metadata": {
      "needs_background": "light"
     },
     "output_type": "display_data"
    }
   ],
   "source": [
    "x, height = [sorted(list(df['flight_day'].unique().astype(str))), \n",
    "             list(df['flight_day'].value_counts().sort_index())]\n",
    "plt.figure(figsize=(8, 5))\n",
    "plt.bar(x, height, color=['royalblue'], edgecolor=\"black\")\n",
    "plt.title(\"Day of Flight (Mon - Sun)\")\n",
    "_, _, _, ymax = plt.axis()\n",
    "for i in range(0, len(x)):\n",
    "        plt.text(i,(height[i])+(ymax/120),height[i], ha = 'center', size=10)"
   ]
  },
  {
   "cell_type": "code",
   "execution_count": 12,
   "id": "f4bf499e",
   "metadata": {
    "scrolled": false
   },
   "outputs": [
    {
     "data": {
      "image/png": "[encoded data removed]",
      "text/plain": [
       "<Figure size 432x288 with 1 Axes>"
      ]
     },
     "metadata": {
      "needs_background": "light"
     },
     "output_type": "display_data"
    }
   ],
   "source": [
    "_, _, label = plt.hist(df['flight_duration'], color=['royalblue'], edgecolor='black',bins=10)\n",
    "for i in range(len(label)):\n",
    "    if(i%2 == 0):\n",
    "        label[i].set_facecolor('crimson')\n",
    "plt.title(\"Flight Hour\")\n",
    "plt.bar_label(label);"
   ]
  },
  {
   "cell_type": "code",
   "execution_count": 13,
   "id": "f7dad4b2",
   "metadata": {
    "scrolled": true
   },
   "outputs": [
    {
     "data": {
      "image/png": "[encoded data removed]",
      "text/plain": [
       "<Figure size 432x288 with 1 Axes>"
      ]
     },
     "metadata": {
      "needs_background": "light"
     },
     "output_type": "display_data"
    }
   ],
   "source": [
    "x, height = [sorted(list(df['wants_extra_baggage'].unique().astype(str))), \n",
    "             list(df['wants_extra_baggage'].value_counts().sort_index())]\n",
    "\n",
    "plt.bar(x, height, color=['crimson', 'royalblue'], edgecolor=\"black\")\n",
    "plt.title(\"Wants Extra Baggage\")\n",
    "for i in range(0, len(x)):\n",
    "        plt.text(i,(height[i])//2,height[i], ha = 'center', size=12)"
   ]
  },
  {
   "cell_type": "code",
   "execution_count": 14,
   "id": "3463e709",
   "metadata": {
    "scrolled": true
   },
   "outputs": [
    {
     "data": {
      "image/png": "[encoded data removed]",
      "text/plain": [
       "<Figure size 432x288 with 1 Axes>"
      ]
     },
     "metadata": {
      "needs_background": "light"
     },
     "output_type": "display_data"
    }
   ],
   "source": [
    "x, height = [sorted(list(df['wants_preferred_seat'].unique().astype(str))), \n",
    "             list(df['wants_preferred_seat'].value_counts().sort_index())]\n",
    "\n",
    "plt.bar(x, height, color=['crimson', 'royalblue'], edgecolor=\"black\")\n",
    "plt.title(\"Wants Preferred Seat\")\n",
    "for i in range(0, len(x)):\n",
    "        plt.text(i,(height[i])//2,height[i], ha = 'center', size=12)"
   ]
  },
  {
   "cell_type": "code",
   "execution_count": 15,
   "id": "0baa437d",
   "metadata": {
    "scrolled": false
   },
   "outputs": [
    {
     "data": {
      "image/png": "[encoded data removed]",
      "text/plain": [
       "<Figure size 432x288 with 1 Axes>"
      ]
     },
     "metadata": {
      "needs_background": "light"
     },
     "output_type": "display_data"
    }
   ],
   "source": [
    "x, height = [sorted(list(df['wants_in_flight_meals'].unique().astype(str))), \n",
    "             list(df['wants_in_flight_meals'].value_counts().sort_index())]\n",
    "\n",
    "plt.bar(x, height, color=['crimson', 'royalblue'], edgecolor=\"black\")\n",
    "plt.title(\"Wants In Flight Meals\")\n",
    "for i in range(0, len(x)):\n",
    "        plt.text(i,(height[i])//2,height[i], ha = 'center', size=12)"
   ]
  },
  {
   "cell_type": "code",
   "execution_count": 16,
   "id": "0474e7ee",
   "metadata": {},
   "outputs": [
    {
     "data": {
      "image/png": "[encoded data removed]",
      "text/plain": [
       "<Figure size 432x288 with 1 Axes>"
      ]
     },
     "metadata": {
      "needs_background": "light"
     },
     "output_type": "display_data"
    }
   ],
   "source": [
    "x, height = [sorted(list(df['booking_complete'].unique().astype(str))), \n",
    "             list(df['booking_complete'].value_counts().sort_index())]\n",
    "\n",
    "plt.bar(x, height, color=['crimson', 'royalblue'], edgecolor=\"black\")\n",
    "plt.title(\"Completed Booking\")\n",
    "for i in range(0, len(x)):\n",
    "        plt.text(i,(height[i])//2,height[i], ha = 'center', size=12)"
   ]
  },
  {
   "cell_type": "code",
   "execution_count": 17,
   "id": "f1d96ee4",
   "metadata": {
    "scrolled": false
   },
   "outputs": [
    {
     "data": {
      "text/html": [
       "<style type=\"text/css\">\n",
       "#T_e6beb_row0_col0, #T_e6beb_row1_col1, #T_e6beb_row2_col2, #T_e6beb_row3_col3, #T_e6beb_row4_col4, #T_e6beb_row5_col5, #T_e6beb_row6_col6, #T_e6beb_row7_col7, #T_e6beb_row8_col8, #T_e6beb_row9_col9 {\n",
       "  background-color: #08306b;\n",
       "  color: #f1f1f1;\n",
       "}\n",
       "#T_e6beb_row0_col1 {\n",
       "  background-color: #c1d9ed;\n",
       "  color: #000000;\n",
       "}\n",
       "#T_e6beb_row0_col2, #T_e6beb_row1_col5, #T_e6beb_row1_col6, #T_e6beb_row1_col7, #T_e6beb_row2_col0, #T_e6beb_row2_col1, #T_e6beb_row2_col3, #T_e6beb_row8_col9, #T_e6beb_row9_col4, #T_e6beb_row9_col8 {\n",
       "  background-color: #f7fbff;\n",
       "  color: #000000;\n",
       "}\n",
       "#T_e6beb_row0_col3 {\n",
       "  background-color: #eff6fc;\n",
       "  color: #000000;\n",
       "}\n",
       "#T_e6beb_row0_col4, #T_e6beb_row8_col3 {\n",
       "  background-color: #f3f8fe;\n",
       "  color: #000000;\n",
       "}\n",
       "#T_e6beb_row0_col5 {\n",
       "  background-color: #dce9f6;\n",
       "  color: #000000;\n",
       "}\n",
       "#T_e6beb_row0_col6, #T_e6beb_row3_col7 {\n",
       "  background-color: #f1f7fd;\n",
       "  color: #000000;\n",
       "}\n",
       "#T_e6beb_row0_col7, #T_e6beb_row1_col4, #T_e6beb_row4_col3, #T_e6beb_row5_col1, #T_e6beb_row7_col1, #T_e6beb_row8_col0, #T_e6beb_row9_col1, #T_e6beb_row9_col7 {\n",
       "  background-color: #eef5fc;\n",
       "  color: #000000;\n",
       "}\n",
       "#T_e6beb_row0_col8, #T_e6beb_row1_col2, #T_e6beb_row2_col6, #T_e6beb_row6_col3, #T_e6beb_row7_col3 {\n",
       "  background-color: #f0f6fd;\n",
       "  color: #000000;\n",
       "}\n",
       "#T_e6beb_row0_col9, #T_e6beb_row2_col7, #T_e6beb_row3_col0, #T_e6beb_row4_col0, #T_e6beb_row7_col9 {\n",
       "  background-color: #dfecf7;\n",
       "  color: #000000;\n",
       "}\n",
       "#T_e6beb_row1_col0 {\n",
       "  background-color: #b8d5ea;\n",
       "  color: #000000;\n",
       "}\n",
       "#T_e6beb_row1_col3 {\n",
       "  background-color: #ebf3fb;\n",
       "  color: #000000;\n",
       "}\n",
       "#T_e6beb_row1_col8, #T_e6beb_row5_col9 {\n",
       "  background-color: #d8e7f5;\n",
       "  color: #000000;\n",
       "}\n",
       "#T_e6beb_row1_col9, #T_e6beb_row8_col5 {\n",
       "  background-color: #e8f1fa;\n",
       "  color: #000000;\n",
       "}\n",
       "#T_e6beb_row2_col4, #T_e6beb_row5_col4 {\n",
       "  background-color: #f6faff;\n",
       "  color: #000000;\n",
       "}\n",
       "#T_e6beb_row2_col5, #T_e6beb_row7_col2 {\n",
       "  background-color: #d1e2f3;\n",
       "  color: #000000;\n",
       "}\n",
       "#T_e6beb_row2_col8, #T_e6beb_row6_col5 {\n",
       "  background-color: #cbdef1;\n",
       "  color: #000000;\n",
       "}\n",
       "#T_e6beb_row2_col9 {\n",
       "  background-color: #ecf4fb;\n",
       "  color: #000000;\n",
       "}\n",
       "#T_e6beb_row3_col1, #T_e6beb_row3_col9, #T_e6beb_row4_col1, #T_e6beb_row4_col2, #T_e6beb_row8_col6 {\n",
       "  background-color: #e3eef8;\n",
       "  color: #000000;\n",
       "}\n",
       "#T_e6beb_row3_col2 {\n",
       "  background-color: #e7f1fa;\n",
       "  color: #000000;\n",
       "}\n",
       "#T_e6beb_row3_col4, #T_e6beb_row4_col7, #T_e6beb_row9_col3 {\n",
       "  background-color: #f2f7fd;\n",
       "  color: #000000;\n",
       "}\n",
       "#T_e6beb_row3_col5, #T_e6beb_row4_col6 {\n",
       "  background-color: #f5fafe;\n",
       "  color: #000000;\n",
       "}\n",
       "#T_e6beb_row3_col6, #T_e6beb_row4_col5, #T_e6beb_row7_col4 {\n",
       "  background-color: #f4f9fe;\n",
       "  color: #000000;\n",
       "}\n",
       "#T_e6beb_row3_col8 {\n",
       "  background-color: #e4eff9;\n",
       "  color: #000000;\n",
       "}\n",
       "#T_e6beb_row4_col8 {\n",
       "  background-color: #e1edf8;\n",
       "  color: #000000;\n",
       "}\n",
       "#T_e6beb_row4_col9, #T_e6beb_row9_col5 {\n",
       "  background-color: #e6f0f9;\n",
       "  color: #000000;\n",
       "}\n",
       "#T_e6beb_row5_col0, #T_e6beb_row5_col6 {\n",
       "  background-color: #cde0f1;\n",
       "  color: #000000;\n",
       "}\n",
       "#T_e6beb_row5_col2 {\n",
       "  background-color: #c2d9ee;\n",
       "  color: #000000;\n",
       "}\n",
       "#T_e6beb_row5_col3, #T_e6beb_row6_col4 {\n",
       "  background-color: #f5f9fe;\n",
       "  color: #000000;\n",
       "}\n",
       "#T_e6beb_row5_col7, #T_e6beb_row7_col5 {\n",
       "  background-color: #caddf0;\n",
       "  color: #000000;\n",
       "}\n",
       "#T_e6beb_row5_col8 {\n",
       "  background-color: #dae8f6;\n",
       "  color: #000000;\n",
       "}\n",
       "#T_e6beb_row6_col0, #T_e6beb_row6_col2 {\n",
       "  background-color: #ddeaf7;\n",
       "  color: #000000;\n",
       "}\n",
       "#T_e6beb_row6_col1 {\n",
       "  background-color: #eaf2fb;\n",
       "  color: #000000;\n",
       "}\n",
       "#T_e6beb_row6_col7 {\n",
       "  background-color: #add0e6;\n",
       "  color: #000000;\n",
       "}\n",
       "#T_e6beb_row6_col8 {\n",
       "  background-color: #d2e3f3;\n",
       "  color: #000000;\n",
       "}\n",
       "#T_e6beb_row6_col9 {\n",
       "  background-color: #dbe9f6;\n",
       "  color: #000000;\n",
       "}\n",
       "#T_e6beb_row7_col0 {\n",
       "  background-color: #dfebf7;\n",
       "  color: #000000;\n",
       "}\n",
       "#T_e6beb_row7_col6 {\n",
       "  background-color: #b0d2e7;\n",
       "  color: #000000;\n",
       "}\n",
       "#T_e6beb_row7_col8 {\n",
       "  background-color: #c9ddf0;\n",
       "  color: #000000;\n",
       "}\n",
       "#T_e6beb_row8_col1 {\n",
       "  background-color: #dceaf6;\n",
       "  color: #000000;\n",
       "}\n",
       "#T_e6beb_row8_col2 {\n",
       "  background-color: #cadef0;\n",
       "  color: #000000;\n",
       "}\n",
       "#T_e6beb_row8_col4 {\n",
       "  background-color: #f2f8fd;\n",
       "  color: #000000;\n",
       "}\n",
       "#T_e6beb_row8_col7 {\n",
       "  background-color: #d5e5f4;\n",
       "  color: #000000;\n",
       "}\n",
       "#T_e6beb_row9_col0 {\n",
       "  background-color: #deebf7;\n",
       "  color: #000000;\n",
       "}\n",
       "#T_e6beb_row9_col2 {\n",
       "  background-color: #eaf3fb;\n",
       "  color: #000000;\n",
       "}\n",
       "#T_e6beb_row9_col6 {\n",
       "  background-color: #edf4fc;\n",
       "  color: #000000;\n",
       "}\n",
       "</style>\n",
       "<table id=\"T_e6beb\">\n",
       "  <thead>\n",
       "    <tr>\n",
       "      <th class=\"blank level0\" >&nbsp;</th>\n",
       "      <th id=\"T_e6beb_level0_col0\" class=\"col_heading level0 col0\" >num_passengers</th>\n",
       "      <th id=\"T_e6beb_level0_col1\" class=\"col_heading level0 col1\" >purchase_lead</th>\n",
       "      <th id=\"T_e6beb_level0_col2\" class=\"col_heading level0 col2\" >length_of_stay</th>\n",
       "      <th id=\"T_e6beb_level0_col3\" class=\"col_heading level0 col3\" >flight_hour</th>\n",
       "      <th id=\"T_e6beb_level0_col4\" class=\"col_heading level0 col4\" >flight_day</th>\n",
       "      <th id=\"T_e6beb_level0_col5\" class=\"col_heading level0 col5\" >wants_extra_baggage</th>\n",
       "      <th id=\"T_e6beb_level0_col6\" class=\"col_heading level0 col6\" >wants_preferred_seat</th>\n",
       "      <th id=\"T_e6beb_level0_col7\" class=\"col_heading level0 col7\" >wants_in_flight_meals</th>\n",
       "      <th id=\"T_e6beb_level0_col8\" class=\"col_heading level0 col8\" >flight_duration</th>\n",
       "      <th id=\"T_e6beb_level0_col9\" class=\"col_heading level0 col9\" >booking_complete</th>\n",
       "    </tr>\n",
       "  </thead>\n",
       "  <tbody>\n",
       "    <tr>\n",
       "      <th id=\"T_e6beb_level0_row0\" class=\"row_heading level0 row0\" >num_passengers</th>\n",
       "      <td id=\"T_e6beb_row0_col0\" class=\"data row0 col0\" >1.000000</td>\n",
       "      <td id=\"T_e6beb_row0_col1\" class=\"data row0 col1\" >0.212606</td>\n",
       "      <td id=\"T_e6beb_row0_col2\" class=\"data row0 col2\" >-0.115850</td>\n",
       "      <td id=\"T_e6beb_row0_col3\" class=\"data row0 col3\" >0.015607</td>\n",
       "      <td id=\"T_e6beb_row0_col4\" class=\"data row0 col4\" >0.015407</td>\n",
       "      <td id=\"T_e6beb_row0_col5\" class=\"data row0 col5\" >0.120404</td>\n",
       "      <td id=\"T_e6beb_row0_col6\" class=\"data row0 col6\" >0.028544</td>\n",
       "      <td id=\"T_e6beb_row0_col7\" class=\"data row0 col7\" >0.022943</td>\n",
       "      <td id=\"T_e6beb_row0_col8\" class=\"data row0 col8\" >-0.063169</td>\n",
       "      <td id=\"T_e6beb_row0_col9\" class=\"data row0 col9\" >0.024116</td>\n",
       "    </tr>\n",
       "    <tr>\n",
       "      <th id=\"T_e6beb_level0_row1\" class=\"row_heading level0 row1\" >purchase_lead</th>\n",
       "      <td id=\"T_e6beb_row1_col0\" class=\"data row1 col0\" >0.212606</td>\n",
       "      <td id=\"T_e6beb_row1_col1\" class=\"data row1 col1\" >1.000000</td>\n",
       "      <td id=\"T_e6beb_row1_col2\" class=\"data row1 col2\" >-0.076560</td>\n",
       "      <td id=\"T_e6beb_row1_col3\" class=\"data row1 col3\" >0.035973</td>\n",
       "      <td id=\"T_e6beb_row1_col4\" class=\"data row1 col4\" >0.036531</td>\n",
       "      <td id=\"T_e6beb_row1_col5\" class=\"data row1 col5\" >-0.022207</td>\n",
       "      <td id=\"T_e6beb_row1_col6\" class=\"data row1 col6\" >-0.004499</td>\n",
       "      <td id=\"T_e6beb_row1_col7\" class=\"data row1 col7\" >-0.022653</td>\n",
       "      <td id=\"T_e6beb_row1_col8\" class=\"data row1 col8\" >0.067866</td>\n",
       "      <td id=\"T_e6beb_row1_col9\" class=\"data row1 col9\" >-0.022131</td>\n",
       "    </tr>\n",
       "    <tr>\n",
       "      <th id=\"T_e6beb_level0_row2\" class=\"row_heading level0 row2\" >length_of_stay</th>\n",
       "      <td id=\"T_e6beb_row2_col0\" class=\"data row2 col0\" >-0.115850</td>\n",
       "      <td id=\"T_e6beb_row2_col1\" class=\"data row2 col1\" >-0.076560</td>\n",
       "      <td id=\"T_e6beb_row2_col2\" class=\"data row2 col2\" >1.000000</td>\n",
       "      <td id=\"T_e6beb_row2_col3\" class=\"data row2 col3\" >-0.024872</td>\n",
       "      <td id=\"T_e6beb_row2_col4\" class=\"data row2 col4\" >-0.000310</td>\n",
       "      <td id=\"T_e6beb_row2_col5\" class=\"data row2 col5\" >0.176757</td>\n",
       "      <td id=\"T_e6beb_row2_col6\" class=\"data row2 col6\" >0.032264</td>\n",
       "      <td id=\"T_e6beb_row2_col7\" class=\"data row2 col7\" >0.098828</td>\n",
       "      <td id=\"T_e6beb_row2_col8\" class=\"data row2 col8\" >0.141181</td>\n",
       "      <td id=\"T_e6beb_row2_col9\" class=\"data row2 col9\" >-0.042408</td>\n",
       "    </tr>\n",
       "    <tr>\n",
       "      <th id=\"T_e6beb_level0_row3\" class=\"row_heading level0 row3\" >flight_hour</th>\n",
       "      <td id=\"T_e6beb_row3_col0\" class=\"data row3 col0\" >0.015607</td>\n",
       "      <td id=\"T_e6beb_row3_col1\" class=\"data row3 col1\" >0.035973</td>\n",
       "      <td id=\"T_e6beb_row3_col2\" class=\"data row3 col2\" >-0.024872</td>\n",
       "      <td id=\"T_e6beb_row3_col3\" class=\"data row3 col3\" >1.000000</td>\n",
       "      <td id=\"T_e6beb_row3_col4\" class=\"data row3 col4\" >0.024086</td>\n",
       "      <td id=\"T_e6beb_row3_col5\" class=\"data row3 col5\" >-0.011434</td>\n",
       "      <td id=\"T_e6beb_row3_col6\" class=\"data row3 col6\" >0.012171</td>\n",
       "      <td id=\"T_e6beb_row3_col7\" class=\"data row3 col7\" >0.013014</td>\n",
       "      <td id=\"T_e6beb_row3_col8\" class=\"data row3 col8\" >-0.002101</td>\n",
       "      <td id=\"T_e6beb_row3_col9\" class=\"data row3 col9\" >0.007127</td>\n",
       "    </tr>\n",
       "    <tr>\n",
       "      <th id=\"T_e6beb_level0_row4\" class=\"row_heading level0 row4\" >flight_day</th>\n",
       "      <td id=\"T_e6beb_row4_col0\" class=\"data row4 col0\" >0.015407</td>\n",
       "      <td id=\"T_e6beb_row4_col1\" class=\"data row4 col1\" >0.036531</td>\n",
       "      <td id=\"T_e6beb_row4_col2\" class=\"data row4 col2\" >-0.000310</td>\n",
       "      <td id=\"T_e6beb_row4_col3\" class=\"data row4 col3\" >0.024086</td>\n",
       "      <td id=\"T_e6beb_row4_col4\" class=\"data row4 col4\" >1.000000</td>\n",
       "      <td id=\"T_e6beb_row4_col5\" class=\"data row4 col5\" >-0.002503</td>\n",
       "      <td id=\"T_e6beb_row4_col6\" class=\"data row4 col6\" >0.005392</td>\n",
       "      <td id=\"T_e6beb_row4_col7\" class=\"data row4 col7\" >0.009281</td>\n",
       "      <td id=\"T_e6beb_row4_col8\" class=\"data row4 col8\" >0.018434</td>\n",
       "      <td id=\"T_e6beb_row4_col9\" class=\"data row4 col9\" >-0.006986</td>\n",
       "    </tr>\n",
       "    <tr>\n",
       "      <th id=\"T_e6beb_level0_row5\" class=\"row_heading level0 row5\" >wants_extra_baggage</th>\n",
       "      <td id=\"T_e6beb_row5_col0\" class=\"data row5 col0\" >0.120404</td>\n",
       "      <td id=\"T_e6beb_row5_col1\" class=\"data row5 col1\" >-0.022207</td>\n",
       "      <td id=\"T_e6beb_row5_col2\" class=\"data row5 col2\" >0.176757</td>\n",
       "      <td id=\"T_e6beb_row5_col3\" class=\"data row5 col3\" >-0.011434</td>\n",
       "      <td id=\"T_e6beb_row5_col4\" class=\"data row5 col4\" >-0.002503</td>\n",
       "      <td id=\"T_e6beb_row5_col5\" class=\"data row5 col5\" >1.000000</td>\n",
       "      <td id=\"T_e6beb_row5_col6\" class=\"data row5 col6\" >0.207669</td>\n",
       "      <td id=\"T_e6beb_row5_col7\" class=\"data row5 col7\" >0.216470</td>\n",
       "      <td id=\"T_e6beb_row5_col8\" class=\"data row5 col8\" >0.057054</td>\n",
       "      <td id=\"T_e6beb_row5_col9\" class=\"data row5 col9\" >0.068139</td>\n",
       "    </tr>\n",
       "    <tr>\n",
       "      <th id=\"T_e6beb_level0_row6\" class=\"row_heading level0 row6\" >wants_preferred_seat</th>\n",
       "      <td id=\"T_e6beb_row6_col0\" class=\"data row6 col0\" >0.028544</td>\n",
       "      <td id=\"T_e6beb_row6_col1\" class=\"data row6 col1\" >-0.004499</td>\n",
       "      <td id=\"T_e6beb_row6_col2\" class=\"data row6 col2\" >0.032264</td>\n",
       "      <td id=\"T_e6beb_row6_col3\" class=\"data row6 col3\" >0.012171</td>\n",
       "      <td id=\"T_e6beb_row6_col4\" class=\"data row6 col4\" >0.005392</td>\n",
       "      <td id=\"T_e6beb_row6_col5\" class=\"data row6 col5\" >0.207669</td>\n",
       "      <td id=\"T_e6beb_row6_col6\" class=\"data row6 col6\" >1.000000</td>\n",
       "      <td id=\"T_e6beb_row6_col7\" class=\"data row6 col7\" >0.315088</td>\n",
       "      <td id=\"T_e6beb_row6_col8\" class=\"data row6 col8\" >0.101289</td>\n",
       "      <td id=\"T_e6beb_row6_col9\" class=\"data row6 col9\" >0.050116</td>\n",
       "    </tr>\n",
       "    <tr>\n",
       "      <th id=\"T_e6beb_level0_row7\" class=\"row_heading level0 row7\" >wants_in_flight_meals</th>\n",
       "      <td id=\"T_e6beb_row7_col0\" class=\"data row7 col0\" >0.022943</td>\n",
       "      <td id=\"T_e6beb_row7_col1\" class=\"data row7 col1\" >-0.022653</td>\n",
       "      <td id=\"T_e6beb_row7_col2\" class=\"data row7 col2\" >0.098828</td>\n",
       "      <td id=\"T_e6beb_row7_col3\" class=\"data row7 col3\" >0.013014</td>\n",
       "      <td id=\"T_e6beb_row7_col4\" class=\"data row7 col4\" >0.009281</td>\n",
       "      <td id=\"T_e6beb_row7_col5\" class=\"data row7 col5\" >0.216470</td>\n",
       "      <td id=\"T_e6beb_row7_col6\" class=\"data row7 col6\" >0.315088</td>\n",
       "      <td id=\"T_e6beb_row7_col7\" class=\"data row7 col7\" >1.000000</td>\n",
       "      <td id=\"T_e6beb_row7_col8\" class=\"data row7 col8\" >0.154312</td>\n",
       "      <td id=\"T_e6beb_row7_col9\" class=\"data row7 col9\" >0.026511</td>\n",
       "    </tr>\n",
       "    <tr>\n",
       "      <th id=\"T_e6beb_level0_row8\" class=\"row_heading level0 row8\" >flight_duration</th>\n",
       "      <td id=\"T_e6beb_row8_col0\" class=\"data row8 col0\" >-0.063169</td>\n",
       "      <td id=\"T_e6beb_row8_col1\" class=\"data row8 col1\" >0.067866</td>\n",
       "      <td id=\"T_e6beb_row8_col2\" class=\"data row8 col2\" >0.141181</td>\n",
       "      <td id=\"T_e6beb_row8_col3\" class=\"data row8 col3\" >-0.002101</td>\n",
       "      <td id=\"T_e6beb_row8_col4\" class=\"data row8 col4\" >0.018434</td>\n",
       "      <td id=\"T_e6beb_row8_col5\" class=\"data row8 col5\" >0.057054</td>\n",
       "      <td id=\"T_e6beb_row8_col6\" class=\"data row8 col6\" >0.101289</td>\n",
       "      <td id=\"T_e6beb_row8_col7\" class=\"data row8 col7\" >0.154312</td>\n",
       "      <td id=\"T_e6beb_row8_col8\" class=\"data row8 col8\" >1.000000</td>\n",
       "      <td id=\"T_e6beb_row8_col9\" class=\"data row8 col9\" >-0.106266</td>\n",
       "    </tr>\n",
       "    <tr>\n",
       "      <th id=\"T_e6beb_level0_row9\" class=\"row_heading level0 row9\" >booking_complete</th>\n",
       "      <td id=\"T_e6beb_row9_col0\" class=\"data row9 col0\" >0.024116</td>\n",
       "      <td id=\"T_e6beb_row9_col1\" class=\"data row9 col1\" >-0.022131</td>\n",
       "      <td id=\"T_e6beb_row9_col2\" class=\"data row9 col2\" >-0.042408</td>\n",
       "      <td id=\"T_e6beb_row9_col3\" class=\"data row9 col3\" >0.007127</td>\n",
       "      <td id=\"T_e6beb_row9_col4\" class=\"data row9 col4\" >-0.006986</td>\n",
       "      <td id=\"T_e6beb_row9_col5\" class=\"data row9 col5\" >0.068139</td>\n",
       "      <td id=\"T_e6beb_row9_col6\" class=\"data row9 col6\" >0.050116</td>\n",
       "      <td id=\"T_e6beb_row9_col7\" class=\"data row9 col7\" >0.026511</td>\n",
       "      <td id=\"T_e6beb_row9_col8\" class=\"data row9 col8\" >-0.106266</td>\n",
       "      <td id=\"T_e6beb_row9_col9\" class=\"data row9 col9\" >1.000000</td>\n",
       "    </tr>\n",
       "  </tbody>\n",
       "</table>\n"
      ],
      "text/plain": [
       "<pandas.io.formats.style.Styler at 0x1fd7ac91ca0>"
      ]
     },
     "execution_count": 17,
     "metadata": {},
     "output_type": "execute_result"
    }
   ],
   "source": [
    "df.corr(method='pearson').style.background_gradient(cmap='Blues', axis=0)"
   ]
  },
  {
   "cell_type": "code",
   "execution_count": 18,
   "id": "b033a90e",
   "metadata": {},
   "outputs": [
    {
     "data": {
      "text/html": [
       "<div>\n",
       "<style scoped>\n",
       "    .dataframe tbody tr th:only-of-type {\n",
       "        vertical-align: middle;\n",
       "    }\n",
       "\n",
       "    .dataframe tbody tr th {\n",
       "        vertical-align: top;\n",
       "    }\n",
       "\n",
       "    .dataframe thead th {\n",
       "        text-align: right;\n",
       "    }\n",
       "</style>\n",
       "<table border=\"1\" class=\"dataframe\">\n",
       "  <thead>\n",
       "    <tr style=\"text-align: right;\">\n",
       "      <th></th>\n",
       "      <th>num_passengers</th>\n",
       "      <th>sales_channel</th>\n",
       "      <th>trip_type</th>\n",
       "      <th>purchase_lead</th>\n",
       "      <th>length_of_stay</th>\n",
       "      <th>flight_hour</th>\n",
       "      <th>flight_day</th>\n",
       "      <th>route</th>\n",
       "      <th>booking_origin</th>\n",
       "      <th>wants_extra_baggage</th>\n",
       "      <th>wants_preferred_seat</th>\n",
       "      <th>wants_in_flight_meals</th>\n",
       "      <th>flight_duration</th>\n",
       "      <th>booking_complete</th>\n",
       "    </tr>\n",
       "  </thead>\n",
       "  <tbody>\n",
       "    <tr>\n",
       "      <th>0</th>\n",
       "      <td>2</td>\n",
       "      <td>Internet</td>\n",
       "      <td>RoundTrip</td>\n",
       "      <td>262</td>\n",
       "      <td>19</td>\n",
       "      <td>7</td>\n",
       "      <td>6</td>\n",
       "      <td>AKLDEL</td>\n",
       "      <td>New Zealand</td>\n",
       "      <td>1</td>\n",
       "      <td>0</td>\n",
       "      <td>0</td>\n",
       "      <td>5.52</td>\n",
       "      <td>0</td>\n",
       "    </tr>\n",
       "    <tr>\n",
       "      <th>1</th>\n",
       "      <td>1</td>\n",
       "      <td>Internet</td>\n",
       "      <td>RoundTrip</td>\n",
       "      <td>112</td>\n",
       "      <td>20</td>\n",
       "      <td>3</td>\n",
       "      <td>6</td>\n",
       "      <td>AKLDEL</td>\n",
       "      <td>New Zealand</td>\n",
       "      <td>0</td>\n",
       "      <td>0</td>\n",
       "      <td>0</td>\n",
       "      <td>5.52</td>\n",
       "      <td>0</td>\n",
       "    </tr>\n",
       "    <tr>\n",
       "      <th>2</th>\n",
       "      <td>2</td>\n",
       "      <td>Internet</td>\n",
       "      <td>RoundTrip</td>\n",
       "      <td>243</td>\n",
       "      <td>22</td>\n",
       "      <td>17</td>\n",
       "      <td>3</td>\n",
       "      <td>AKLDEL</td>\n",
       "      <td>India</td>\n",
       "      <td>1</td>\n",
       "      <td>1</td>\n",
       "      <td>0</td>\n",
       "      <td>5.52</td>\n",
       "      <td>0</td>\n",
       "    </tr>\n",
       "    <tr>\n",
       "      <th>3</th>\n",
       "      <td>1</td>\n",
       "      <td>Internet</td>\n",
       "      <td>RoundTrip</td>\n",
       "      <td>96</td>\n",
       "      <td>31</td>\n",
       "      <td>4</td>\n",
       "      <td>6</td>\n",
       "      <td>AKLDEL</td>\n",
       "      <td>New Zealand</td>\n",
       "      <td>0</td>\n",
       "      <td>0</td>\n",
       "      <td>1</td>\n",
       "      <td>5.52</td>\n",
       "      <td>0</td>\n",
       "    </tr>\n",
       "    <tr>\n",
       "      <th>4</th>\n",
       "      <td>2</td>\n",
       "      <td>Internet</td>\n",
       "      <td>RoundTrip</td>\n",
       "      <td>68</td>\n",
       "      <td>22</td>\n",
       "      <td>15</td>\n",
       "      <td>3</td>\n",
       "      <td>AKLDEL</td>\n",
       "      <td>India</td>\n",
       "      <td>1</td>\n",
       "      <td>0</td>\n",
       "      <td>1</td>\n",
       "      <td>5.52</td>\n",
       "      <td>0</td>\n",
       "    </tr>\n",
       "  </tbody>\n",
       "</table>\n",
       "</div>"
      ],
      "text/plain": [
       "   num_passengers sales_channel  trip_type  purchase_lead  length_of_stay  \\\n",
       "0               2      Internet  RoundTrip            262              19   \n",
       "1               1      Internet  RoundTrip            112              20   \n",
       "2               2      Internet  RoundTrip            243              22   \n",
       "3               1      Internet  RoundTrip             96              31   \n",
       "4               2      Internet  RoundTrip             68              22   \n",
       "\n",
       "   flight_hour  flight_day   route booking_origin  wants_extra_baggage  \\\n",
       "0            7           6  AKLDEL    New Zealand                    1   \n",
       "1            3           6  AKLDEL    New Zealand                    0   \n",
       "2           17           3  AKLDEL          India                    1   \n",
       "3            4           6  AKLDEL    New Zealand                    0   \n",
       "4           15           3  AKLDEL          India                    1   \n",
       "\n",
       "   wants_preferred_seat  wants_in_flight_meals  flight_duration  \\\n",
       "0                     0                      0             5.52   \n",
       "1                     0                      0             5.52   \n",
       "2                     1                      0             5.52   \n",
       "3                     0                      1             5.52   \n",
       "4                     0                      1             5.52   \n",
       "\n",
       "   booking_complete  \n",
       "0                 0  \n",
       "1                 0  \n",
       "2                 0  \n",
       "3                 0  \n",
       "4                 0  "
      ]
     },
     "execution_count": 18,
     "metadata": {},
     "output_type": "execute_result"
    }
   ],
   "source": [
    "df.head()"
   ]
  },
  {
   "cell_type": "code",
   "execution_count": 19,
   "id": "d26434ce",
   "metadata": {},
   "outputs": [],
   "source": [
    "X = df.drop(['sales_channel', 'trip_type', 'route', 'booking_origin', 'booking_complete'], axis=1)\n",
    "y = df['booking_complete']\n",
    "oversample = RandomOverSampler(sampling_strategy=1)\n",
    "X, y = oversample.fit_resample(X, y)"
   ]
  },
  {
   "cell_type": "code",
   "execution_count": 20,
   "id": "7f141bcc",
   "metadata": {},
   "outputs": [],
   "source": [
    "X_train, X_test, y_train, y_test = train_test_split(X, y, test_size=0.25, random_state=26)"
   ]
  },
  {
   "cell_type": "code",
   "execution_count": 21,
   "id": "c0586f81",
   "metadata": {
    "scrolled": true
   },
   "outputs": [],
   "source": [
    "clf = DecisionTreeClassifier()\n",
    "cvCLF = cross_validate(clf, X, y, cv=8)\n",
    "clf = clf.fit(X_train,y_train)\n",
    "y_pred = clf.predict(X_test)"
   ]
  },
  {
   "cell_type": "code",
   "execution_count": 22,
   "id": "20df524f",
   "metadata": {
    "scrolled": true
   },
   "outputs": [
    {
     "name": "stdout",
     "output_type": "stream",
     "text": [
      "              precision    recall  f1-score   support\n",
      "\n",
      "           0       0.99      0.82      0.90     10672\n",
      "           1       0.85      0.99      0.91     10589\n",
      "\n",
      "    accuracy                           0.91     21261\n",
      "   macro avg       0.92      0.91      0.91     21261\n",
      "weighted avg       0.92      0.91      0.91     21261\n",
      "\n"
     ]
    }
   ],
   "source": [
    "print(classification_report(y_test, y_pred))"
   ]
  },
  {
   "cell_type": "code",
   "execution_count": 23,
   "id": "16bac43b",
   "metadata": {
    "scrolled": true
   },
   "outputs": [
    {
     "name": "stdout",
     "output_type": "stream",
     "text": [
      "Accuracy of Decision Tree Classifier 10 k-folds: 82.00%\n"
     ]
    }
   ],
   "source": [
    "print(\"Accuracy of Decision Tree Classifier 10 k-folds: {:.2f}%\".format(cvCLF['test_score'].mean()*100))"
   ]
  },
  {
   "cell_type": "code",
   "execution_count": 24,
   "id": "fe18f595",
   "metadata": {
    "scrolled": false
   },
   "outputs": [
    {
     "data": {
      "image/png": "[encoded data removed]",
      "text/plain": [
       "<Figure size 1440x720 with 1 Axes>"
      ]
     },
     "metadata": {
      "needs_background": "light"
     },
     "output_type": "display_data"
    }
   ],
   "source": [
    "importance = clf.feature_importances_\n",
    "plt.figure(figsize=(20, 10))\n",
    "x, height = [X.columns, (np.round(importance, 5))]\n",
    "plt.bar(x, height, color=['royalblue'], edgecolor=\"black\")\n",
    "plt.title(\"Feature Importance\", size=25)\n",
    "_, _, _, ymax = plt.axis()\n",
    "for i in range(0, len(x)):\n",
    "        plt.text(i,(height[i])+0.004, height[i], ha = 'center', size=16)"
   ]
  }
 ],
 "metadata": {
  "kernelspec": {
   "display_name": "Python 3 (ipykernel)",
   "language": "python",
   "name": "python3"
  },
  "language_info": {
   "codemirror_mode": {
    "name": "ipython",
    "version": 3
   },
   "file_extension": ".py",
   "mimetype": "text/x-python",
   "name": "python",
   "nbconvert_exporter": "python",
   "pygments_lexer": "ipython3",
   "version": "3.9.7"
  }
 },
 "nbformat": 4,
 "nbformat_minor": 5
}
